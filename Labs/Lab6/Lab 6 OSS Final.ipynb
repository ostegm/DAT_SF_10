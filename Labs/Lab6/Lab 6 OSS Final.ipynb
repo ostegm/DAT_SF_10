{
 "metadata": {
  "name": "",
  "signature": "sha256:3a4067f82609776c505c1ec1ec6fecd988d8e81d4139ff9cc34fd6ac02450d84"
 },
 "nbformat": 3,
 "nbformat_minor": 0,
 "worksheets": [
  {
   "cells": [
    {
     "cell_type": "markdown",
     "metadata": {},
     "source": [
      "## HW3: Predicting Login Time\n",
      "_____________\n",
      "Otto Stegmaier\n",
      "DAT_10_SF\n",
      "10/26/14\n",
      "_____________"
     ]
    },
    {
     "cell_type": "code",
     "collapsed": false,
     "input": [
      "%matplotlib inline\n",
      "import pandas as pd\n",
      "import matplotlib.pyplot as plt\n",
      "import numpy as np\n",
      "# Statsmodel APIs\n",
      "import statsmodels.api as sm\n",
      "from datetime import timedelta"
     ],
     "language": "python",
     "metadata": {},
     "outputs": [],
     "prompt_number": 155
    },
    {
     "cell_type": "code",
     "collapsed": false,
     "input": [
      "#read in data set\n",
      "\n",
      "df = pd.read_csv('student_logins.csv', parse_dates = True)"
     ],
     "language": "python",
     "metadata": {},
     "outputs": [],
     "prompt_number": 156
    },
    {
     "cell_type": "code",
     "collapsed": false,
     "input": [
      "df.head()"
     ],
     "language": "python",
     "metadata": {},
     "outputs": [
      {
       "html": [
        "<div style=\"max-height:1000px;max-width:1500px;overflow:auto;\">\n",
        "<table border=\"1\" class=\"dataframe\">\n",
        "  <thead>\n",
        "    <tr style=\"text-align: right;\">\n",
        "      <th></th>\n",
        "      <th>session_start_time</th>\n",
        "      <th>session_end_time</th>\n",
        "      <th>class_id</th>\n",
        "      <th>problems_completed</th>\n",
        "      <th>student_id</th>\n",
        "      <th>student_account_created</th>\n",
        "      <th>student_previous_logins_total</th>\n",
        "      <th>student_previous_class_logins</th>\n",
        "    </tr>\n",
        "  </thead>\n",
        "  <tbody>\n",
        "    <tr>\n",
        "      <th>0</th>\n",
        "      <td> 1/6/12 16:28</td>\n",
        "      <td> 1/6/12 16:55</td>\n",
        "      <td> e</td>\n",
        "      <td> 37</td>\n",
        "      <td>  91</td>\n",
        "      <td> 10/26/11 0:00</td>\n",
        "      <td>  76</td>\n",
        "      <td>  27</td>\n",
        "    </tr>\n",
        "    <tr>\n",
        "      <th>1</th>\n",
        "      <td> 1/7/12 11:00</td>\n",
        "      <td> 1/7/12 11:27</td>\n",
        "      <td> e</td>\n",
        "      <td> 24</td>\n",
        "      <td> 161</td>\n",
        "      <td>   1/6/12 0:00</td>\n",
        "      <td>   2</td>\n",
        "      <td>   0</td>\n",
        "    </tr>\n",
        "    <tr>\n",
        "      <th>2</th>\n",
        "      <td>  1/8/12 9:04</td>\n",
        "      <td>  1/8/12 9:31</td>\n",
        "      <td> e</td>\n",
        "      <td> 50</td>\n",
        "      <td> 141</td>\n",
        "      <td> 12/31/11 0:00</td>\n",
        "      <td>   8</td>\n",
        "      <td>   5</td>\n",
        "    </tr>\n",
        "    <tr>\n",
        "      <th>3</th>\n",
        "      <td> 1/9/12 12:41</td>\n",
        "      <td> 1/9/12 12:48</td>\n",
        "      <td> e</td>\n",
        "      <td> 26</td>\n",
        "      <td> 101</td>\n",
        "      <td> 11/16/11 0:00</td>\n",
        "      <td> 199</td>\n",
        "      <td> 104</td>\n",
        "    </tr>\n",
        "    <tr>\n",
        "      <th>4</th>\n",
        "      <td> 1/9/12 16:59</td>\n",
        "      <td> 1/9/12 17:43</td>\n",
        "      <td> m</td>\n",
        "      <td> 37</td>\n",
        "      <td> 103</td>\n",
        "      <td> 11/23/11 0:00</td>\n",
        "      <td> 100</td>\n",
        "      <td>  41</td>\n",
        "    </tr>\n",
        "  </tbody>\n",
        "</table>\n",
        "</div>"
       ],
       "metadata": {},
       "output_type": "pyout",
       "prompt_number": 157,
       "text": [
        "  session_start_time session_end_time class_id  problems_completed  \\\n",
        "0       1/6/12 16:28     1/6/12 16:55        e                  37   \n",
        "1       1/7/12 11:00     1/7/12 11:27        e                  24   \n",
        "2        1/8/12 9:04      1/8/12 9:31        e                  50   \n",
        "3       1/9/12 12:41     1/9/12 12:48        e                  26   \n",
        "4       1/9/12 16:59     1/9/12 17:43        m                  37   \n",
        "\n",
        "   student_id student_account_created  student_previous_logins_total  \\\n",
        "0          91           10/26/11 0:00                             76   \n",
        "1         161             1/6/12 0:00                              2   \n",
        "2         141           12/31/11 0:00                              8   \n",
        "3         101           11/16/11 0:00                            199   \n",
        "4         103           11/23/11 0:00                            100   \n",
        "\n",
        "   student_previous_class_logins  \n",
        "0                             27  \n",
        "1                              0  \n",
        "2                              5  \n",
        "3                            104  \n",
        "4                             41  "
       ]
      }
     ],
     "prompt_number": 157
    },
    {
     "cell_type": "markdown",
     "metadata": {},
     "source": [
      "______________\n",
      "## First, a bit of cleanup\n",
      "_________________\n"
     ]
    },
    {
     "cell_type": "code",
     "collapsed": false,
     "input": [
      "df['session_end_time'] = pd.to_datetime(df['session_end_time'])\n",
      "df['session_start_time'] = pd.to_datetime(df['session_start_time'])\n",
      "df['student_account_created'] = pd.to_datetime(df['student_account_created'])"
     ],
     "language": "python",
     "metadata": {},
     "outputs": [],
     "prompt_number": 158
    },
    {
     "cell_type": "code",
     "collapsed": false,
     "input": [
      "df['student_account_created'][0]"
     ],
     "language": "python",
     "metadata": {},
     "outputs": [
      {
       "metadata": {},
       "output_type": "pyout",
       "prompt_number": 159,
       "text": [
        "Timestamp('2011-10-26 00:00:00')"
       ]
      }
     ],
     "prompt_number": 159
    },
    {
     "cell_type": "code",
     "collapsed": false,
     "input": [
      "x=[]\n",
      "for i in range(0, len(df.session_end_time)):\n",
      "     result = df.session_end_time[i] - df.session_start_time[i]\n",
      "     x.append(result)\n",
      "df['timedelta'] = x"
     ],
     "language": "python",
     "metadata": {},
     "outputs": [],
     "prompt_number": 160
    },
    {
     "cell_type": "code",
     "collapsed": false,
     "input": [
      "#creating a value for time as student in days\n",
      "df['age'] = df.session_end_time - df.student_account_created\n",
      "df['age_in_hours'] = df['age'].astype(\"timedelta64[h]\")"
     ],
     "language": "python",
     "metadata": {},
     "outputs": [],
     "prompt_number": 161
    },
    {
     "cell_type": "code",
     "collapsed": false,
     "input": [
      "df.head()"
     ],
     "language": "python",
     "metadata": {},
     "outputs": [
      {
       "html": [
        "<div style=\"max-height:1000px;max-width:1500px;overflow:auto;\">\n",
        "<table border=\"1\" class=\"dataframe\">\n",
        "  <thead>\n",
        "    <tr style=\"text-align: right;\">\n",
        "      <th></th>\n",
        "      <th>session_start_time</th>\n",
        "      <th>session_end_time</th>\n",
        "      <th>class_id</th>\n",
        "      <th>problems_completed</th>\n",
        "      <th>student_id</th>\n",
        "      <th>student_account_created</th>\n",
        "      <th>student_previous_logins_total</th>\n",
        "      <th>student_previous_class_logins</th>\n",
        "      <th>timedelta</th>\n",
        "      <th>age</th>\n",
        "      <th>age_in_hours</th>\n",
        "    </tr>\n",
        "  </thead>\n",
        "  <tbody>\n",
        "    <tr>\n",
        "      <th>0</th>\n",
        "      <td>2012-01-06 16:28:00</td>\n",
        "      <td>2012-01-06 16:55:00</td>\n",
        "      <td> e</td>\n",
        "      <td> 37</td>\n",
        "      <td>  91</td>\n",
        "      <td>2011-10-26</td>\n",
        "      <td>  76</td>\n",
        "      <td>  27</td>\n",
        "      <td>00:27:00</td>\n",
        "      <td>72 days, 16:55:00</td>\n",
        "      <td> 1744</td>\n",
        "    </tr>\n",
        "    <tr>\n",
        "      <th>1</th>\n",
        "      <td>2012-01-07 11:00:00</td>\n",
        "      <td>2012-01-07 11:27:00</td>\n",
        "      <td> e</td>\n",
        "      <td> 24</td>\n",
        "      <td> 161</td>\n",
        "      <td>2012-01-06</td>\n",
        "      <td>   2</td>\n",
        "      <td>   0</td>\n",
        "      <td>00:27:00</td>\n",
        "      <td> 1 days, 11:27:00</td>\n",
        "      <td>   35</td>\n",
        "    </tr>\n",
        "    <tr>\n",
        "      <th>2</th>\n",
        "      <td>2012-01-08 09:04:00</td>\n",
        "      <td>2012-01-08 09:31:00</td>\n",
        "      <td> e</td>\n",
        "      <td> 50</td>\n",
        "      <td> 141</td>\n",
        "      <td>2011-12-31</td>\n",
        "      <td>   8</td>\n",
        "      <td>   5</td>\n",
        "      <td>00:27:00</td>\n",
        "      <td> 8 days, 09:31:00</td>\n",
        "      <td>  201</td>\n",
        "    </tr>\n",
        "    <tr>\n",
        "      <th>3</th>\n",
        "      <td>2012-01-09 12:41:00</td>\n",
        "      <td>2012-01-09 12:48:00</td>\n",
        "      <td> e</td>\n",
        "      <td> 26</td>\n",
        "      <td> 101</td>\n",
        "      <td>2011-11-16</td>\n",
        "      <td> 199</td>\n",
        "      <td> 104</td>\n",
        "      <td>00:07:00</td>\n",
        "      <td>54 days, 12:48:00</td>\n",
        "      <td> 1308</td>\n",
        "    </tr>\n",
        "    <tr>\n",
        "      <th>4</th>\n",
        "      <td>2012-01-09 16:59:00</td>\n",
        "      <td>2012-01-09 17:43:00</td>\n",
        "      <td> m</td>\n",
        "      <td> 37</td>\n",
        "      <td> 103</td>\n",
        "      <td>2011-11-23</td>\n",
        "      <td> 100</td>\n",
        "      <td>  41</td>\n",
        "      <td>00:44:00</td>\n",
        "      <td>47 days, 17:43:00</td>\n",
        "      <td> 1145</td>\n",
        "    </tr>\n",
        "  </tbody>\n",
        "</table>\n",
        "</div>"
       ],
       "metadata": {},
       "output_type": "pyout",
       "prompt_number": 162,
       "text": [
        "   session_start_time    session_end_time class_id  problems_completed  \\\n",
        "0 2012-01-06 16:28:00 2012-01-06 16:55:00        e                  37   \n",
        "1 2012-01-07 11:00:00 2012-01-07 11:27:00        e                  24   \n",
        "2 2012-01-08 09:04:00 2012-01-08 09:31:00        e                  50   \n",
        "3 2012-01-09 12:41:00 2012-01-09 12:48:00        e                  26   \n",
        "4 2012-01-09 16:59:00 2012-01-09 17:43:00        m                  37   \n",
        "\n",
        "   student_id student_account_created  student_previous_logins_total  \\\n",
        "0          91              2011-10-26                             76   \n",
        "1         161              2012-01-06                              2   \n",
        "2         141              2011-12-31                              8   \n",
        "3         101              2011-11-16                            199   \n",
        "4         103              2011-11-23                            100   \n",
        "\n",
        "   student_previous_class_logins  timedelta               age  age_in_hours  \n",
        "0                             27   00:27:00 72 days, 16:55:00          1744  \n",
        "1                              0   00:27:00  1 days, 11:27:00            35  \n",
        "2                              5   00:27:00  8 days, 09:31:00           201  \n",
        "3                            104   00:07:00 54 days, 12:48:00          1308  \n",
        "4                             41   00:44:00 47 days, 17:43:00          1145  "
       ]
      }
     ],
     "prompt_number": 162
    },
    {
     "cell_type": "code",
     "collapsed": false,
     "input": [
      "#plotting timedelta to find outliers\n",
      "\n",
      "plt.plot(df.timedelta)"
     ],
     "language": "python",
     "metadata": {},
     "outputs": [
      {
       "metadata": {},
       "output_type": "pyout",
       "prompt_number": 163,
       "text": [
        "[<matplotlib.lines.Line2D at 0x214f1908>]"
       ]
      },
      {
       "metadata": {},
       "output_type": "display_data",
       "png": "[encoded data removed]",
       "text": [
        "<matplotlib.figure.Figure at 0x1b46d320>"
       ]
      }
     ],
     "prompt_number": 163
    },
    {
     "cell_type": "code",
     "collapsed": false,
     "input": [
      "#Looking for the three extreme values in the data set (shown above)\n",
      "\n",
      "#df[df['timedelta']<0]\n",
      "df[df['timedelta']>1.5E13].sort('timedelta')"
     ],
     "language": "python",
     "metadata": {},
     "outputs": [
      {
       "html": [
        "<div style=\"max-height:1000px;max-width:1500px;overflow:auto;\">\n",
        "<table border=\"1\" class=\"dataframe\">\n",
        "  <thead>\n",
        "    <tr style=\"text-align: right;\">\n",
        "      <th></th>\n",
        "      <th>session_start_time</th>\n",
        "      <th>session_end_time</th>\n",
        "      <th>class_id</th>\n",
        "      <th>problems_completed</th>\n",
        "      <th>student_id</th>\n",
        "      <th>student_account_created</th>\n",
        "      <th>student_previous_logins_total</th>\n",
        "      <th>student_previous_class_logins</th>\n",
        "      <th>timedelta</th>\n",
        "      <th>age</th>\n",
        "      <th>age_in_hours</th>\n",
        "    </tr>\n",
        "  </thead>\n",
        "  <tbody>\n",
        "    <tr>\n",
        "      <th>19524</th>\n",
        "      <td>2012-12-15 22:04:00</td>\n",
        "      <td>2012-12-16 09:36:00</td>\n",
        "      <td> m</td>\n",
        "      <td> 38</td>\n",
        "      <td> 342</td>\n",
        "      <td>2012-09-27</td>\n",
        "      <td> 145</td>\n",
        "      <td>  54</td>\n",
        "      <td>11:32:00</td>\n",
        "      <td> 80 days, 09:36:00</td>\n",
        "      <td> 1929</td>\n",
        "    </tr>\n",
        "    <tr>\n",
        "      <th>48330</th>\n",
        "      <td>2013-12-20 20:47:00</td>\n",
        "      <td>2013-12-21 13:26:00</td>\n",
        "      <td> a</td>\n",
        "      <td> 14</td>\n",
        "      <td> 297</td>\n",
        "      <td>2013-07-25</td>\n",
        "      <td> 705</td>\n",
        "      <td> 198</td>\n",
        "      <td>16:39:00</td>\n",
        "      <td>149 days, 13:26:00</td>\n",
        "      <td> 3589</td>\n",
        "    </tr>\n",
        "  </tbody>\n",
        "</table>\n",
        "</div>"
       ],
       "metadata": {},
       "output_type": "pyout",
       "prompt_number": 164,
       "text": [
        "       session_start_time    session_end_time class_id  problems_completed  \\\n",
        "19524 2012-12-15 22:04:00 2012-12-16 09:36:00        m                  38   \n",
        "48330 2013-12-20 20:47:00 2013-12-21 13:26:00        a                  14   \n",
        "\n",
        "       student_id student_account_created  student_previous_logins_total  \\\n",
        "19524         342              2012-09-27                            145   \n",
        "48330         297              2013-07-25                            705   \n",
        "\n",
        "       student_previous_class_logins  timedelta                age  \\\n",
        "19524                             54   11:32:00  80 days, 09:36:00   \n",
        "48330                            198   16:39:00 149 days, 13:26:00   \n",
        "\n",
        "       age_in_hours  \n",
        "19524          1929  \n",
        "48330          3589  "
       ]
      }
     ],
     "prompt_number": 164
    },
    {
     "cell_type": "code",
     "collapsed": false,
     "input": [
      "#removing the negative time... seems odd\n",
      "df = df[df['timedelta']>0]\n",
      "#removing the 2 logins that appear to be 12+ hours (seem like they left their computer logged in?)\n",
      "df = df[df['timedelta']<1.5E13]"
     ],
     "language": "python",
     "metadata": {},
     "outputs": [],
     "prompt_number": 165
    },
    {
     "cell_type": "code",
     "collapsed": false,
     "input": [
      "#Plotting again to make sure the 3 extreme cases are gone\n",
      "plt.plot(df.timedelta)"
     ],
     "language": "python",
     "metadata": {},
     "outputs": [
      {
       "metadata": {},
       "output_type": "pyout",
       "prompt_number": 166,
       "text": [
        "[<matplotlib.lines.Line2D at 0x215d8780>]"
       ]
      },
      {
       "metadata": {},
       "output_type": "display_data",
       "png": "[encoded data removed]",
       "text": [
        "<matplotlib.figure.Figure at 0x210c5860>"
       ]
      }
     ],
     "prompt_number": 166
    },
    {
     "cell_type": "code",
     "collapsed": false,
     "input": [
      "#turning timedelta into seconds (instead of a millisecond np.datetime obj)\n",
      "seconds = []\n",
      "for i in df.timedelta:\n",
      "    second = i / np.timedelta64(1, 's')\n",
      "    seconds.append(second)\n",
      "\n",
      "df['seconds'] = seconds"
     ],
     "language": "python",
     "metadata": {},
     "outputs": [],
     "prompt_number": 167
    },
    {
     "cell_type": "code",
     "collapsed": false,
     "input": [
      "#creating avg time per problem for each student\n",
      "df['time_per_problem'] = df['seconds']/df['problems_completed']"
     ],
     "language": "python",
     "metadata": {},
     "outputs": [],
     "prompt_number": 168
    },
    {
     "cell_type": "markdown",
     "metadata": {},
     "source": [
      "finding the class average times"
     ]
    },
    {
     "cell_type": "code",
     "collapsed": false,
     "input": [
      "d_a = df[df.class_id == 'a']\n",
      "d_c = df[df.class_id == 'c']\n",
      "d_e = df[df.class_id == 'e']\n",
      "d_g = df[df.class_id == 'g']\n",
      "d_m = df[df.class_id == 'm']\n",
      "\n",
      "print \"Class A mean time per problem: \" , d_a['time_per_problem'].mean()\n",
      "print \"Class C mean time per problem: \" , d_c['time_per_problem'].mean()\n",
      "print \"Class G mean time per problem: \" , d_e['time_per_problem'].mean()\n",
      "print \"Class E mean time per problem: \" , d_g['time_per_problem'].mean()\n",
      "print \"Class M mean time per problem: \" , d_m['time_per_problem'].mean()"
     ],
     "language": "python",
     "metadata": {},
     "outputs": [
      {
       "output_type": "stream",
       "stream": "stdout",
       "text": [
        "Class A mean time per problem:  102.189087091\n",
        "Class C mean time per problem:  113.930029957\n",
        "Class G mean time per problem:  50.1127038468\n",
        "Class E mean time per problem:  91.2715594461\n",
        "Class M mean time per problem:  99.2165697989\n"
       ]
      }
     ],
     "prompt_number": 169
    },
    {
     "cell_type": "code",
     "collapsed": false,
     "input": [
      "# Adding Class Average\n",
      "df['Class_avg_time_per_prob'] = df['class_id'].replace(['a', 'c', 'e','g','m'],[102.1,113.9,50.1,91.2,99.2],inplace=False)        "
     ],
     "language": "python",
     "metadata": {},
     "outputs": [],
     "prompt_number": 172
    },
    {
     "cell_type": "markdown",
     "metadata": {},
     "source": [
      "______________\n",
      "\n",
      "\n",
      "\n",
      "## Done with data cleanup! On to regressions!\n",
      "\n",
      "\n",
      "______"
     ]
    },
    {
     "cell_type": "code",
     "collapsed": false,
     "input": [
      "#simple regressi0n:  seconds as a function of problems_completed\n",
      "\n",
      "x = df['problems_completed'].values\n",
      "y = df['seconds'].values.astype(np.float64)\n",
      "X = sm.add_constant(x, prepend = True)\n",
      "\n",
      "result = sm.OLS(y,X).fit()\n",
      "intercept, slope = result.params\n",
      "r_2 = result.rsquared\n",
      "\n",
      "#plot x, y in color blue using a circle\n",
      "plt.plot(x, y, 'bx')\n",
      "plt.title(\"Time Passed vs Problems Completed\")\n",
      "\n",
      "#manual creation of a line, color red, use symbol -\n",
      "x2 = np.array([np.min(x), np.max(x)])\n",
      "y2 = intercept + slope * x2\n",
      "plt.plot(x2 ,y2, 'r--')\n",
      "plt.show\n",
      "result.summary()"
     ],
     "language": "python",
     "metadata": {},
     "outputs": [
      {
       "html": [
        "<table class=\"simpletable\">\n",
        "<caption>OLS Regression Results</caption>\n",
        "<tr>\n",
        "  <th>Dep. Variable:</th>            <td>y</td>        <th>  R-squared:         </th>  <td>   0.409</td>  \n",
        "</tr>\n",
        "<tr>\n",
        "  <th>Model:</th>                   <td>OLS</td>       <th>  Adj. R-squared:    </th>  <td>   0.409</td>  \n",
        "</tr>\n",
        "<tr>\n",
        "  <th>Method:</th>             <td>Least Squares</td>  <th>  F-statistic:       </th>  <td>3.311e+04</td> \n",
        "</tr>\n",
        "<tr>\n",
        "  <th>Date:</th>             <td>Mon, 27 Oct 2014</td> <th>  Prob (F-statistic):</th>   <td>  0.00</td>   \n",
        "</tr>\n",
        "<tr>\n",
        "  <th>Time:</th>                 <td>22:52:41</td>     <th>  Log-Likelihood:    </th> <td>-3.8806e+05</td>\n",
        "</tr>\n",
        "<tr>\n",
        "  <th>No. Observations:</th>      <td> 47887</td>      <th>  AIC:               </th>  <td>7.761e+05</td> \n",
        "</tr>\n",
        "<tr>\n",
        "  <th>Df Residuals:</th>          <td> 47885</td>      <th>  BIC:               </th>  <td>7.761e+05</td> \n",
        "</tr>\n",
        "<tr>\n",
        "  <th>Df Model:</th>              <td>     1</td>      <th>                     </th>      <td> </td>     \n",
        "</tr>\n",
        "</table>\n",
        "<table class=\"simpletable\">\n",
        "<tr>\n",
        "    <td></td>       <th>coef</th>     <th>std err</th>      <th>t</th>      <th>P>|t|</th> <th>[95.0% Conf. Int.]</th> \n",
        "</tr>\n",
        "<tr>\n",
        "  <th>const</th> <td>  375.7479</td> <td>    6.811</td> <td>   55.169</td> <td> 0.000</td> <td>  362.398   389.097</td>\n",
        "</tr>\n",
        "<tr>\n",
        "  <th>x1</th>    <td>   61.5157</td> <td>    0.338</td> <td>  181.950</td> <td> 0.000</td> <td>   60.853    62.178</td>\n",
        "</tr>\n",
        "</table>\n",
        "<table class=\"simpletable\">\n",
        "<tr>\n",
        "  <th>Omnibus:</th>       <td>20515.905</td> <th>  Durbin-Watson:     </th>  <td>   1.953</td> \n",
        "</tr>\n",
        "<tr>\n",
        "  <th>Prob(Omnibus):</th>  <td> 0.000</td>   <th>  Jarque-Bera (JB):  </th> <td>167238.159</td>\n",
        "</tr>\n",
        "<tr>\n",
        "  <th>Skew:</th>           <td> 1.866</td>   <th>  Prob(JB):          </th>  <td>    0.00</td> \n",
        "</tr>\n",
        "<tr>\n",
        "  <th>Kurtosis:</th>       <td>11.360</td>   <th>  Cond. No.          </th>  <td>    37.6</td> \n",
        "</tr>\n",
        "</table>"
       ],
       "metadata": {},
       "output_type": "pyout",
       "prompt_number": 173,
       "text": [
        "<class 'statsmodels.iolib.summary.Summary'>\n",
        "\"\"\"\n",
        "                            OLS Regression Results                            \n",
        "==============================================================================\n",
        "Dep. Variable:                      y   R-squared:                       0.409\n",
        "Model:                            OLS   Adj. R-squared:                  0.409\n",
        "Method:                 Least Squares   F-statistic:                 3.311e+04\n",
        "Date:                Mon, 27 Oct 2014   Prob (F-statistic):               0.00\n",
        "Time:                        22:52:41   Log-Likelihood:            -3.8806e+05\n",
        "No. Observations:               47887   AIC:                         7.761e+05\n",
        "Df Residuals:                   47885   BIC:                         7.761e+05\n",
        "Df Model:                           1                                         \n",
        "==============================================================================\n",
        "                 coef    std err          t      P>|t|      [95.0% Conf. Int.]\n",
        "------------------------------------------------------------------------------\n",
        "const        375.7479      6.811     55.169      0.000       362.398   389.097\n",
        "x1            61.5157      0.338    181.950      0.000        60.853    62.178\n",
        "==============================================================================\n",
        "Omnibus:                    20515.905   Durbin-Watson:                   1.953\n",
        "Prob(Omnibus):                  0.000   Jarque-Bera (JB):           167238.159\n",
        "Skew:                           1.866   Prob(JB):                         0.00\n",
        "Kurtosis:                      11.360   Cond. No.                         37.6\n",
        "==============================================================================\n",
        "\"\"\""
       ]
      },
      {
       "metadata": {},
       "output_type": "display_data",
       "png": "[encoded data removed]",
       "text": [
        "<matplotlib.figure.Figure at 0x1bff1f60>"
       ]
      }
     ],
     "prompt_number": 173
    },
    {
     "cell_type": "markdown",
     "metadata": {},
     "source": [
      "--------------\n",
      "\n",
      "## MultivariateRegression\n",
      "Attempting to make a better model by including which class the student was working on when completing problems and how long the student has had an account\n",
      "_____________"
     ]
    },
    {
     "cell_type": "code",
     "collapsed": false,
     "input": [
      "import statsmodels.formula.api as smf"
     ],
     "language": "python",
     "metadata": {},
     "outputs": [],
     "prompt_number": 174
    },
    {
     "cell_type": "code",
     "collapsed": false,
     "input": [
      "#adding dummy variables to create binary class id's\n",
      "dummy_df = pd.get_dummies(df['class_id'])\n",
      "#joining these 5 columns to the end of the DF\n",
      "df = df.join(dummy_df)\n",
      "#df.head()\n"
     ],
     "language": "python",
     "metadata": {},
     "outputs": [],
     "prompt_number": 175
    },
    {
     "cell_type": "code",
     "collapsed": false,
     "input": [
      "#adding in control for which class and length as a student\n",
      "seconds = df['seconds'].values.astype(np.float64)\n",
      "results = smf.ols('seconds ~ problems_completed + age_in_hours + a + c + e + g + m', data=df).fit()\n",
      "results.summary()"
     ],
     "language": "python",
     "metadata": {},
     "outputs": [
      {
       "html": [
        "<table class=\"simpletable\">\n",
        "<caption>OLS Regression Results</caption>\n",
        "<tr>\n",
        "  <th>Dep. Variable:</th>         <td>seconds</td>     <th>  R-squared:         </th>  <td>   0.486</td>  \n",
        "</tr>\n",
        "<tr>\n",
        "  <th>Model:</th>                   <td>OLS</td>       <th>  Adj. R-squared:    </th>  <td>   0.486</td>  \n",
        "</tr>\n",
        "<tr>\n",
        "  <th>Method:</th>             <td>Least Squares</td>  <th>  F-statistic:       </th>  <td>   7535.</td>  \n",
        "</tr>\n",
        "<tr>\n",
        "  <th>Date:</th>             <td>Mon, 27 Oct 2014</td> <th>  Prob (F-statistic):</th>   <td>  0.00</td>   \n",
        "</tr>\n",
        "<tr>\n",
        "  <th>Time:</th>                 <td>22:52:47</td>     <th>  Log-Likelihood:    </th> <td>-3.8472e+05</td>\n",
        "</tr>\n",
        "<tr>\n",
        "  <th>No. Observations:</th>      <td> 47887</td>      <th>  AIC:               </th>  <td>7.695e+05</td> \n",
        "</tr>\n",
        "<tr>\n",
        "  <th>Df Residuals:</th>          <td> 47880</td>      <th>  BIC:               </th>  <td>7.695e+05</td> \n",
        "</tr>\n",
        "<tr>\n",
        "  <th>Df Model:</th>              <td>     6</td>      <th>                     </th>      <td> </td>     \n",
        "</tr>\n",
        "</table>\n",
        "<table class=\"simpletable\">\n",
        "<tr>\n",
        "           <td></td>             <th>coef</th>     <th>std err</th>      <th>t</th>      <th>P>|t|</th> <th>[95.0% Conf. Int.]</th> \n",
        "</tr>\n",
        "<tr>\n",
        "  <th>Intercept</th>          <td>  210.2880</td> <td>    6.536</td> <td>   32.174</td> <td> 0.000</td> <td>  197.477   223.099</td>\n",
        "</tr>\n",
        "<tr>\n",
        "  <th>problems_completed</th> <td>   68.3413</td> <td>    0.333</td> <td>  205.485</td> <td> 0.000</td> <td>   67.689    68.993</td>\n",
        "</tr>\n",
        "<tr>\n",
        "  <th>age_in_hours</th>       <td>   -0.0303</td> <td>    0.002</td> <td>  -19.129</td> <td> 0.000</td> <td>   -0.033    -0.027</td>\n",
        "</tr>\n",
        "<tr>\n",
        "  <th>a</th>                  <td>  282.8445</td> <td>    6.370</td> <td>   44.401</td> <td> 0.000</td> <td>  270.359   295.330</td>\n",
        "</tr>\n",
        "<tr>\n",
        "  <th>c</th>                  <td>  253.9040</td> <td>    9.744</td> <td>   26.058</td> <td> 0.000</td> <td>  234.806   273.002</td>\n",
        "</tr>\n",
        "<tr>\n",
        "  <th>e</th>                  <td> -647.5662</td> <td>    9.233</td> <td>  -70.134</td> <td> 0.000</td> <td> -665.664  -629.469</td>\n",
        "</tr>\n",
        "<tr>\n",
        "  <th>g</th>                  <td>   74.0154</td> <td>    8.045</td> <td>    9.200</td> <td> 0.000</td> <td>   58.247    89.784</td>\n",
        "</tr>\n",
        "<tr>\n",
        "  <th>m</th>                  <td>  247.0903</td> <td>    5.675</td> <td>   43.538</td> <td> 0.000</td> <td>  235.967   258.214</td>\n",
        "</tr>\n",
        "</table>\n",
        "<table class=\"simpletable\">\n",
        "<tr>\n",
        "  <th>Omnibus:</th>       <td>23100.034</td> <th>  Durbin-Watson:     </th>  <td>   1.972</td> \n",
        "</tr>\n",
        "<tr>\n",
        "  <th>Prob(Omnibus):</th>  <td> 0.000</td>   <th>  Jarque-Bera (JB):  </th> <td>233435.452</td>\n",
        "</tr>\n",
        "<tr>\n",
        "  <th>Skew:</th>           <td> 2.085</td>   <th>  Prob(JB):          </th>  <td>    0.00</td> \n",
        "</tr>\n",
        "<tr>\n",
        "  <th>Kurtosis:</th>       <td>12.980</td>   <th>  Cond. No.          </th>  <td>1.82e+11</td> \n",
        "</tr>\n",
        "</table>"
       ],
       "metadata": {},
       "output_type": "pyout",
       "prompt_number": 176,
       "text": [
        "<class 'statsmodels.iolib.summary.Summary'>\n",
        "\"\"\"\n",
        "                            OLS Regression Results                            \n",
        "==============================================================================\n",
        "Dep. Variable:                seconds   R-squared:                       0.486\n",
        "Model:                            OLS   Adj. R-squared:                  0.486\n",
        "Method:                 Least Squares   F-statistic:                     7535.\n",
        "Date:                Mon, 27 Oct 2014   Prob (F-statistic):               0.00\n",
        "Time:                        22:52:47   Log-Likelihood:            -3.8472e+05\n",
        "No. Observations:               47887   AIC:                         7.695e+05\n",
        "Df Residuals:                   47880   BIC:                         7.695e+05\n",
        "Df Model:                           6                                         \n",
        "======================================================================================\n",
        "                         coef    std err          t      P>|t|      [95.0% Conf. Int.]\n",
        "--------------------------------------------------------------------------------------\n",
        "Intercept            210.2880      6.536     32.174      0.000       197.477   223.099\n",
        "problems_completed    68.3413      0.333    205.485      0.000        67.689    68.993\n",
        "age_in_hours          -0.0303      0.002    -19.129      0.000        -0.033    -0.027\n",
        "a                    282.8445      6.370     44.401      0.000       270.359   295.330\n",
        "c                    253.9040      9.744     26.058      0.000       234.806   273.002\n",
        "e                   -647.5662      9.233    -70.134      0.000      -665.664  -629.469\n",
        "g                     74.0154      8.045      9.200      0.000        58.247    89.784\n",
        "m                    247.0903      5.675     43.538      0.000       235.967   258.214\n",
        "==============================================================================\n",
        "Omnibus:                    23100.034   Durbin-Watson:                   1.972\n",
        "Prob(Omnibus):                  0.000   Jarque-Bera (JB):           233435.452\n",
        "Skew:                           2.085   Prob(JB):                         0.00\n",
        "Kurtosis:                      12.980   Cond. No.                     1.82e+11\n",
        "==============================================================================\n",
        "\n",
        "Warnings:\n",
        "[1] The smallest eigenvalue is 1.5e-11. This might indicate that there are\n",
        "strong multicollinearity problems or that the design matrix is singular.\n",
        "\"\"\""
       ]
      }
     ],
     "prompt_number": 176
    },
    {
     "cell_type": "markdown",
     "metadata": {},
     "source": [
      "____________\n",
      "## Adding in avg time per problem (on  a student basis)\n",
      "_______________\n",
      "Potentially overfitting here..."
     ]
    },
    {
     "cell_type": "code",
     "collapsed": false,
     "input": [
      "#adding in control for which class and length as a student\n",
      "seconds = df['seconds'].values.astype(np.float64)\n",
      "results = smf.ols('seconds ~ problems_completed + age_in_hours + a + c + e + g + m + time_per_problem', data=df).fit()\n",
      "results.summary()"
     ],
     "language": "python",
     "metadata": {},
     "outputs": [
      {
       "html": [
        "<table class=\"simpletable\">\n",
        "<caption>OLS Regression Results</caption>\n",
        "<tr>\n",
        "  <th>Dep. Variable:</th>         <td>seconds</td>     <th>  R-squared:         </th>  <td>   0.702</td>  \n",
        "</tr>\n",
        "<tr>\n",
        "  <th>Model:</th>                   <td>OLS</td>       <th>  Adj. R-squared:    </th>  <td>   0.702</td>  \n",
        "</tr>\n",
        "<tr>\n",
        "  <th>Method:</th>             <td>Least Squares</td>  <th>  F-statistic:       </th>  <td>1.612e+04</td> \n",
        "</tr>\n",
        "<tr>\n",
        "  <th>Date:</th>             <td>Mon, 27 Oct 2014</td> <th>  Prob (F-statistic):</th>   <td>  0.00</td>   \n",
        "</tr>\n",
        "<tr>\n",
        "  <th>Time:</th>                 <td>22:52:51</td>     <th>  Log-Likelihood:    </th> <td>-3.7165e+05</td>\n",
        "</tr>\n",
        "<tr>\n",
        "  <th>No. Observations:</th>      <td> 47887</td>      <th>  AIC:               </th>  <td>7.433e+05</td> \n",
        "</tr>\n",
        "<tr>\n",
        "  <th>Df Residuals:</th>          <td> 47879</td>      <th>  BIC:               </th>  <td>7.434e+05</td> \n",
        "</tr>\n",
        "<tr>\n",
        "  <th>Df Model:</th>              <td>     7</td>      <th>                     </th>      <td> </td>     \n",
        "</tr>\n",
        "</table>\n",
        "<table class=\"simpletable\">\n",
        "<tr>\n",
        "           <td></td>             <th>coef</th>     <th>std err</th>      <th>t</th>      <th>P>|t|</th> <th>[95.0% Conf. Int.]</th> \n",
        "</tr>\n",
        "<tr>\n",
        "  <th>Intercept</th>          <td> -364.8197</td> <td>    5.853</td> <td>  -62.335</td> <td> 0.000</td> <td> -376.291  -353.349</td>\n",
        "</tr>\n",
        "<tr>\n",
        "  <th>problems_completed</th> <td>   75.4610</td> <td>    0.256</td> <td>  294.793</td> <td> 0.000</td> <td>   74.959    75.963</td>\n",
        "</tr>\n",
        "<tr>\n",
        "  <th>age_in_hours</th>       <td>   -0.0219</td> <td>    0.001</td> <td>  -18.117</td> <td> 0.000</td> <td>   -0.024    -0.020</td>\n",
        "</tr>\n",
        "<tr>\n",
        "  <th>a</th>                  <td>  104.9459</td> <td>    4.941</td> <td>   21.240</td> <td> 0.000</td> <td>   95.261   114.630</td>\n",
        "</tr>\n",
        "<tr>\n",
        "  <th>c</th>                  <td>   39.0968</td> <td>    7.505</td> <td>    5.210</td> <td> 0.000</td> <td>   24.388    53.806</td>\n",
        "</tr>\n",
        "<tr>\n",
        "  <th>e</th>                  <td> -565.0053</td> <td>    7.041</td> <td>  -80.244</td> <td> 0.000</td> <td> -578.806  -551.205</td>\n",
        "</tr>\n",
        "<tr>\n",
        "  <th>g</th>                  <td>  -30.6223</td> <td>    6.149</td> <td>   -4.980</td> <td> 0.000</td> <td>  -42.674   -18.571</td>\n",
        "</tr>\n",
        "<tr>\n",
        "  <th>m</th>                  <td>   86.7651</td> <td>    4.404</td> <td>   19.701</td> <td> 0.000</td> <td>   78.133    95.397</td>\n",
        "</tr>\n",
        "<tr>\n",
        "  <th>time_per_problem</th>   <td>    6.0113</td> <td>    0.032</td> <td>  186.506</td> <td> 0.000</td> <td>    5.948     6.075</td>\n",
        "</tr>\n",
        "</table>\n",
        "<table class=\"simpletable\">\n",
        "<tr>\n",
        "  <th>Omnibus:</th>       <td>26325.538</td> <th>  Durbin-Watson:     </th>  <td>   1.984</td>  \n",
        "</tr>\n",
        "<tr>\n",
        "  <th>Prob(Omnibus):</th>  <td> 0.000</td>   <th>  Jarque-Bera (JB):  </th> <td>8550717.268</td>\n",
        "</tr>\n",
        "<tr>\n",
        "  <th>Skew:</th>           <td>-1.428</td>   <th>  Prob(JB):          </th>  <td>    0.00</td>  \n",
        "</tr>\n",
        "<tr>\n",
        "  <th>Kurtosis:</th>       <td>68.401</td>   <th>  Cond. No.          </th>  <td>     nan</td>  \n",
        "</tr>\n",
        "</table>"
       ],
       "metadata": {},
       "output_type": "pyout",
       "prompt_number": 177,
       "text": [
        "<class 'statsmodels.iolib.summary.Summary'>\n",
        "\"\"\"\n",
        "                            OLS Regression Results                            \n",
        "==============================================================================\n",
        "Dep. Variable:                seconds   R-squared:                       0.702\n",
        "Model:                            OLS   Adj. R-squared:                  0.702\n",
        "Method:                 Least Squares   F-statistic:                 1.612e+04\n",
        "Date:                Mon, 27 Oct 2014   Prob (F-statistic):               0.00\n",
        "Time:                        22:52:51   Log-Likelihood:            -3.7165e+05\n",
        "No. Observations:               47887   AIC:                         7.433e+05\n",
        "Df Residuals:                   47879   BIC:                         7.434e+05\n",
        "Df Model:                           7                                         \n",
        "======================================================================================\n",
        "                         coef    std err          t      P>|t|      [95.0% Conf. Int.]\n",
        "--------------------------------------------------------------------------------------\n",
        "Intercept           -364.8197      5.853    -62.335      0.000      -376.291  -353.349\n",
        "problems_completed    75.4610      0.256    294.793      0.000        74.959    75.963\n",
        "age_in_hours          -0.0219      0.001    -18.117      0.000        -0.024    -0.020\n",
        "a                    104.9459      4.941     21.240      0.000        95.261   114.630\n",
        "c                     39.0968      7.505      5.210      0.000        24.388    53.806\n",
        "e                   -565.0053      7.041    -80.244      0.000      -578.806  -551.205\n",
        "g                    -30.6223      6.149     -4.980      0.000       -42.674   -18.571\n",
        "m                     86.7651      4.404     19.701      0.000        78.133    95.397\n",
        "time_per_problem       6.0113      0.032    186.506      0.000         5.948     6.075\n",
        "==============================================================================\n",
        "Omnibus:                    26325.538   Durbin-Watson:                   1.984\n",
        "Prob(Omnibus):                  0.000   Jarque-Bera (JB):          8550717.268\n",
        "Skew:                          -1.428   Prob(JB):                         0.00\n",
        "Kurtosis:                      68.401   Cond. No.                          nan\n",
        "==============================================================================\n",
        "\n",
        "Warnings:\n",
        "[1] The smallest eigenvalue is -1.15e-10. This might indicate that there are\n",
        "strong multicollinearity problems or that the design matrix is singular.\n",
        "\"\"\""
       ]
      }
     ],
     "prompt_number": 177
    },
    {
     "cell_type": "markdown",
     "metadata": {},
     "source": [
      "## Adding in avg time per problem (on a class basis)"
     ]
    },
    {
     "cell_type": "code",
     "collapsed": false,
     "input": [
      "seconds = df['seconds'].values.astype(np.float64)\n",
      "results = smf.ols('seconds ~ problems_completed + age_in_hours + a +c + e + g + time_per_problem + Class_avg_time_per_prob', data=df).fit()\n",
      "results.summary()"
     ],
     "language": "python",
     "metadata": {},
     "outputs": [
      {
       "html": [
        "<table class=\"simpletable\">\n",
        "<caption>OLS Regression Results</caption>\n",
        "<tr>\n",
        "  <th>Dep. Variable:</th>         <td>seconds</td>     <th>  R-squared:         </th>  <td>   0.702</td>  \n",
        "</tr>\n",
        "<tr>\n",
        "  <th>Model:</th>                   <td>OLS</td>       <th>  Adj. R-squared:    </th>  <td>   0.702</td>  \n",
        "</tr>\n",
        "<tr>\n",
        "  <th>Method:</th>             <td>Least Squares</td>  <th>  F-statistic:       </th>  <td>1.612e+04</td> \n",
        "</tr>\n",
        "<tr>\n",
        "  <th>Date:</th>             <td>Mon, 27 Oct 2014</td> <th>  Prob (F-statistic):</th>   <td>  0.00</td>   \n",
        "</tr>\n",
        "<tr>\n",
        "  <th>Time:</th>                 <td>22:54:46</td>     <th>  Log-Likelihood:    </th> <td>-3.7165e+05</td>\n",
        "</tr>\n",
        "<tr>\n",
        "  <th>No. Observations:</th>      <td> 47887</td>      <th>  AIC:               </th>  <td>7.433e+05</td> \n",
        "</tr>\n",
        "<tr>\n",
        "  <th>Df Residuals:</th>          <td> 47879</td>      <th>  BIC:               </th>  <td>7.434e+05</td> \n",
        "</tr>\n",
        "<tr>\n",
        "  <th>Df Model:</th>              <td>     7</td>      <th>                     </th>      <td> </td>     \n",
        "</tr>\n",
        "</table>\n",
        "<table class=\"simpletable\">\n",
        "<tr>\n",
        "             <td></td>                <th>coef</th>     <th>std err</th>      <th>t</th>      <th>P>|t|</th> <th>[95.0% Conf. Int.]</th> \n",
        "</tr>\n",
        "<tr>\n",
        "  <th>Intercept</th>               <td> -315.3112</td> <td>    3.612</td> <td>  -87.295</td> <td> 0.000</td> <td> -322.391  -308.232</td>\n",
        "</tr>\n",
        "<tr>\n",
        "  <th>problems_completed</th>      <td>   75.4610</td> <td>    0.256</td> <td>  294.793</td> <td> 0.000</td> <td>   74.959    75.963</td>\n",
        "</tr>\n",
        "<tr>\n",
        "  <th>age_in_hours</th>            <td>   -0.0219</td> <td>    0.001</td> <td>  -18.117</td> <td> 0.000</td> <td>   -0.024    -0.020</td>\n",
        "</tr>\n",
        "<tr>\n",
        "  <th>a</th>                       <td>   17.0917</td> <td>    6.704</td> <td>    2.550</td> <td> 0.011</td> <td>    3.952    30.231</td>\n",
        "</tr>\n",
        "<tr>\n",
        "  <th>c</th>                       <td>  -53.1892</td> <td>    9.764</td> <td>   -5.447</td> <td> 0.000</td> <td>  -72.328   -34.051</td>\n",
        "</tr>\n",
        "<tr>\n",
        "  <th>e</th>                       <td> -633.3299</td> <td>    7.094</td> <td>  -89.274</td> <td> 0.000</td> <td> -647.235  -619.425</td>\n",
        "</tr>\n",
        "<tr>\n",
        "  <th>g</th>                       <td> -114.3828</td> <td>    7.858</td> <td>  -14.555</td> <td> 0.000</td> <td> -129.785   -98.980</td>\n",
        "</tr>\n",
        "<tr>\n",
        "  <th>time_per_problem</th>        <td>    6.0113</td> <td>    0.032</td> <td>  186.506</td> <td> 0.000</td> <td>    5.948     6.075</td>\n",
        "</tr>\n",
        "<tr>\n",
        "  <th>Class_avg_time_per_prob</th> <td>    0.3756</td> <td>    0.076</td> <td>    4.932</td> <td> 0.000</td> <td>    0.226     0.525</td>\n",
        "</tr>\n",
        "</table>\n",
        "<table class=\"simpletable\">\n",
        "<tr>\n",
        "  <th>Omnibus:</th>       <td>26325.538</td> <th>  Durbin-Watson:     </th>  <td>   1.984</td>  \n",
        "</tr>\n",
        "<tr>\n",
        "  <th>Prob(Omnibus):</th>  <td> 0.000</td>   <th>  Jarque-Bera (JB):  </th> <td>8550717.268</td>\n",
        "</tr>\n",
        "<tr>\n",
        "  <th>Skew:</th>           <td>-1.428</td>   <th>  Prob(JB):          </th>  <td>    0.00</td>  \n",
        "</tr>\n",
        "<tr>\n",
        "  <th>Kurtosis:</th>       <td>68.401</td>   <th>  Cond. No.          </th>  <td>     nan</td>  \n",
        "</tr>\n",
        "</table>"
       ],
       "metadata": {},
       "output_type": "pyout",
       "prompt_number": 182,
       "text": [
        "<class 'statsmodels.iolib.summary.Summary'>\n",
        "\"\"\"\n",
        "                            OLS Regression Results                            \n",
        "==============================================================================\n",
        "Dep. Variable:                seconds   R-squared:                       0.702\n",
        "Model:                            OLS   Adj. R-squared:                  0.702\n",
        "Method:                 Least Squares   F-statistic:                 1.612e+04\n",
        "Date:                Mon, 27 Oct 2014   Prob (F-statistic):               0.00\n",
        "Time:                        22:54:46   Log-Likelihood:            -3.7165e+05\n",
        "No. Observations:               47887   AIC:                         7.433e+05\n",
        "Df Residuals:                   47879   BIC:                         7.434e+05\n",
        "Df Model:                           7                                         \n",
        "===========================================================================================\n",
        "                              coef    std err          t      P>|t|      [95.0% Conf. Int.]\n",
        "-------------------------------------------------------------------------------------------\n",
        "Intercept                -315.3112      3.612    -87.295      0.000      -322.391  -308.232\n",
        "problems_completed         75.4610      0.256    294.793      0.000        74.959    75.963\n",
        "age_in_hours               -0.0219      0.001    -18.117      0.000        -0.024    -0.020\n",
        "a                          17.0917      6.704      2.550      0.011         3.952    30.231\n",
        "c                         -53.1892      9.764     -5.447      0.000       -72.328   -34.051\n",
        "e                        -633.3299      7.094    -89.274      0.000      -647.235  -619.425\n",
        "g                        -114.3828      7.858    -14.555      0.000      -129.785   -98.980\n",
        "time_per_problem            6.0113      0.032    186.506      0.000         5.948     6.075\n",
        "Class_avg_time_per_prob     0.3756      0.076      4.932      0.000         0.226     0.525\n",
        "==============================================================================\n",
        "Omnibus:                    26325.538   Durbin-Watson:                   1.984\n",
        "Prob(Omnibus):                  0.000   Jarque-Bera (JB):          8550717.268\n",
        "Skew:                          -1.428   Prob(JB):                         0.00\n",
        "Kurtosis:                      68.401   Cond. No.                          nan\n",
        "==============================================================================\n",
        "\n",
        "Warnings:\n",
        "[1] The smallest eigenvalue is -2.1e-10. This might indicate that there are\n",
        "strong multicollinearity problems or that the design matrix is singular.\n",
        "\"\"\""
       ]
      }
     ],
     "prompt_number": 182
    },
    {
     "cell_type": "markdown",
     "metadata": {},
     "source": [
      "_______________\n",
      "## Trying to split Dataframe to test if the model holds up\n",
      "___________\n",
      "1. Split into test train\n"
     ]
    },
    {
     "cell_type": "code",
     "collapsed": false,
     "input": [
      "#split DF into test/train groups\n",
      "\n",
      "test_idx = np.random.uniform(0, 1, len(df)) <= 0.8\n",
      "train = df[test_idx==True]\n",
      "test = df[test_idx==False]\n",
      "\n",
      "print \"Test set: \", len(test)\n",
      "print \"Train set: \", len(train)\n",
      "print \"Total: \", len(test)+len(train)"
     ],
     "language": "python",
     "metadata": {},
     "outputs": [
      {
       "output_type": "stream",
       "stream": "stdout",
       "text": [
        "Test set:  9449\n",
        "Train set:  38438\n",
        "Total:  47887\n"
       ]
      }
     ],
     "prompt_number": 130
    },
    {
     "cell_type": "markdown",
     "metadata": {},
     "source": [
      "2.. Run my OLS model (on the training set) to get coefficient values"
     ]
    },
    {
     "cell_type": "code",
     "collapsed": false,
     "input": [
      "result = smf.ols('seconds ~ problems_completed + age_in_hours', data=train).fit()\n",
      "intercept = result.params[0]\n",
      "b1 = result.params[1]\n",
      "b2 = result.params[2] \n",
      "# put these values into an array to do matrix multiplication \n",
      "list1 = [intercept,b1,b2]\n"
     ],
     "language": "python",
     "metadata": {},
     "outputs": [],
     "prompt_number": 131
    },
    {
     "cell_type": "markdown",
     "metadata": {},
     "source": [
      "3) I want to create an array of predicted Y values by multiplying list1 * X_vals"
     ]
    },
    {
     "cell_type": "code",
     "collapsed": false,
     "input": [
      "#put the X values of interest into a matrix with 1's prepended\n",
      "x_vals = test[['problems_completed','age_in_hours']].values\n",
      "X_vals = sm.add_constant(x_vals, prepend = True)\n",
      "\n",
      "    "
     ],
     "language": "python",
     "metadata": {},
     "outputs": [],
     "prompt_number": 132
    },
    {
     "cell_type": "code",
     "collapsed": false,
     "input": [
      "#calculate predicted y values based on actual x values and the model created in the training set\n",
      "\n",
      "predictions = []\n",
      "\n",
      "for num in range(0,len(X_vals)):\n",
      "    summ =0\n",
      "    k = X_vals[num]*list1\n",
      "    for i in k:\n",
      "        summ = summ + i\n",
      "\n",
      "    predictions.append(summ)\n",
      "    \n",
      "predictions[0:3]"
     ],
     "language": "python",
     "metadata": {},
     "outputs": [
      {
       "metadata": {},
       "output_type": "pyout",
       "prompt_number": 133,
       "text": [
        "[1891.1372736407109, 2667.1083878856339, 1574.6499792727379]"
       ]
      }
     ],
     "prompt_number": 133
    },
    {
     "cell_type": "code",
     "collapsed": false,
     "input": [
      "#put the actual Y values into an array\n",
      "actuals = test['seconds'].values.astype(np.float64)\n",
      "\n"
     ],
     "language": "python",
     "metadata": {},
     "outputs": [],
     "prompt_number": 134
    },
    {
     "cell_type": "code",
     "collapsed": false,
     "input": [
      "#compare the difference between actual and predicted value by adding up the squared difference then taking the square root\n",
      "\n",
      "total_diff = 0\n",
      "for i in range(0,len(actuals)):\n",
      "        diff_sqrd = (actuals[i] - predictions[i])**2 \n",
      "        total_diff+= diff_sqrd\n",
      "        \n",
      "MSE = total_diff**(0.5)/(float(len(actuals)))\n",
      "print \"Mean Squared Error: \", MSE"
     ],
     "language": "python",
     "metadata": {},
     "outputs": [
      {
       "output_type": "stream",
       "stream": "stdout",
       "text": [
        "Mean Squared Error:  7.97014633033\n"
       ]
      }
     ],
     "prompt_number": 135
    },
    {
     "cell_type": "markdown",
     "metadata": {},
     "source": [
      "_______________\n",
      "## Running the Train/Test Split with A more complex model\n",
      "_______________"
     ]
    },
    {
     "cell_type": "code",
     "collapsed": false,
     "input": [
      "result2 = smf.ols('seconds ~ problems_completed + age_in_hours + a + c + g + e + m', data=train).fit()\n",
      "# put intercepts and coefficients into array for multiplication\n",
      "list2 = []\n",
      "for i in range(0,len(result2.params)):\n",
      "    list2.append(result2.params[i])\n",
      "\n",
      "#put the X values of interest into a matrix with 1's prepended\n",
      "x_vals = test[['problems_completed','age_in_hours','a','c','g','e','m']].values\n",
      "X_vals = sm.add_constant(x_vals, prepend = True)"
     ],
     "language": "python",
     "metadata": {},
     "outputs": [],
     "prompt_number": 136
    },
    {
     "cell_type": "code",
     "collapsed": false,
     "input": [
      "#calculate predicted y values based on actual x values and the model created in the training set\n",
      "\n",
      "predictions = []\n",
      "for num in range(0,len(X_vals)):\n",
      "    summ =0\n",
      "    k = X_vals[num]*list2\n",
      "    for i in k:\n",
      "        summ = summ + i\n",
      "\n",
      "    predictions.append(summ)\n",
      "    \n",
      "#put the actual Y values into an array\n",
      "actuals = test['seconds'].values.astype(np.float64)\n"
     ],
     "language": "python",
     "metadata": {},
     "outputs": [],
     "prompt_number": 137
    },
    {
     "cell_type": "code",
     "collapsed": false,
     "input": [
      "#compare the difference between actual and predicted value by adding up the squared difference then taking the square root\n",
      "\n",
      "total_diff = 0\n",
      "for n in range(0,len(actuals)):\n",
      "        diff_sqrd = (actuals[n] - predictions[n])**2 \n",
      "        total_diff+= diff_sqrd\n",
      "        \n",
      "MSE = total_diff**(0.5)/(float(len(actuals)))\n",
      "print \"Mean Squared Error: \", MSE"
     ],
     "language": "python",
     "metadata": {},
     "outputs": [
      {
       "output_type": "stream",
       "stream": "stdout",
       "text": [
        "Mean Squared Error:  7.46325456281\n"
       ]
      }
     ],
     "prompt_number": 138
    },
    {
     "cell_type": "markdown",
     "metadata": {},
     "source": [
      "________________\n",
      "## Running Train Test Split on most complex model\n",
      "__________________"
     ]
    },
    {
     "cell_type": "code",
     "collapsed": false,
     "input": [
      "result3 = smf.ols('seconds ~ problems_completed + age_in_hours + a + c + g + e + m + time_per_problem', data=train).fit()\n",
      "# put intercepts and coefficients into array for multiplication\n",
      "list3 = []\n",
      "for i in range(0,len(result3.params)):\n",
      "    list3.append(result3.params[i])\n",
      "\n",
      "#put the X values of interest into a matrix with 1's prepended\n",
      "x_vals = test[['problems_completed','age_in_hours','a','c','g','e','m','time_per_problem']].values\n",
      "X_vals = sm.add_constant(x_vals, prepend = True)"
     ],
     "language": "python",
     "metadata": {},
     "outputs": [],
     "prompt_number": 139
    },
    {
     "cell_type": "code",
     "collapsed": false,
     "input": [
      "#calculate predicted y values based on actual x values and the model created in the training set\n",
      "\n",
      "predictions = []\n",
      "for num2 in range(0,len(X_vals)):\n",
      "    summ =0\n",
      "    k = X_vals[num2]*list3\n",
      "    for i in k:\n",
      "        summ = summ + i\n",
      "\n",
      "    predictions.append(summ)\n",
      "    \n",
      "#put the actual Y values into an array\n",
      "actuals = test['seconds'].values.astype(np.float64)\n"
     ],
     "language": "python",
     "metadata": {},
     "outputs": [],
     "prompt_number": 140
    },
    {
     "cell_type": "code",
     "collapsed": false,
     "input": [
      "#compare the difference between actual and predicted value by adding up the squared difference then taking the square root\n",
      "\n",
      "total_diff = 0\n",
      "for n in range(0,len(actuals)):\n",
      "        diff_sqrd = (actuals[n] - predictions[n])**2 \n",
      "        total_diff+= diff_sqrd\n",
      "        \n",
      "MSE = total_diff**(0.5)/(float(len(actuals)))\n",
      "print \"Mean Squared Error: \", MSE"
     ],
     "language": "python",
     "metadata": {},
     "outputs": [
      {
       "output_type": "stream",
       "stream": "stdout",
       "text": [
        "Mean Squared Error:  5.63786065609\n"
       ]
      }
     ],
     "prompt_number": 141
    },
    {
     "cell_type": "markdown",
     "metadata": {},
     "source": [
      "_______________\n",
      "## Attempting PCA\n",
      "____________\n",
      "First need to normalize the data"
     ]
    },
    {
     "cell_type": "code",
     "collapsed": false,
     "input": [
      "from sklearn.decomposition import PCA\n",
      "from sklearn import preprocessing"
     ],
     "language": "python",
     "metadata": {},
     "outputs": [],
     "prompt_number": 142
    },
    {
     "cell_type": "code",
     "collapsed": false,
     "input": [
      "\n",
      "df_normalized = df[['problems_completed','age_in_hours','a','c','g','e','m','time_per_problem']]\n"
     ],
     "language": "python",
     "metadata": {},
     "outputs": [],
     "prompt_number": 190
    },
    {
     "cell_type": "code",
     "collapsed": false,
     "input": [
      "#Normalizing the three non-binary variables\n",
      "\n",
      "v = df_normalized.problems_completed.values.astype(float) #returns a numpy array\n",
      "min_max_scaler = preprocessing.MinMaxScaler()\n",
      "v_scaled = min_max_scaler.fit_transform(v)\n",
      "df_normalized.problems_completed = v_scaled\n",
      "\n",
      "g = df_normalized.age_in_hours.values.astype(float) #returns a numpy array\n",
      "min_max_scaler = preprocessing.MinMaxScaler()\n",
      "g_scaled = min_max_scaler.fit_transform(v)\n",
      "df_normalized.age_in_hours = g_scaled\n",
      "\n",
      "u = df_normalized.time_per_problem.values.astype(float) #returns a numpy array\n",
      "min_max_scaler = preprocessing.MinMaxScaler()\n",
      "u_scaled = min_max_scaler.fit_transform(v)\n",
      "df_normalized.time_per_problem = u_scaled\n",
      "\n",
      "\n"
     ],
     "language": "python",
     "metadata": {},
     "outputs": [],
     "prompt_number": 191
    },
    {
     "cell_type": "code",
     "collapsed": false,
     "input": [
      "df_normalized.head()"
     ],
     "language": "python",
     "metadata": {},
     "outputs": [
      {
       "html": [
        "<div style=\"max-height:1000px;max-width:1500px;overflow:auto;\">\n",
        "<table border=\"1\" class=\"dataframe\">\n",
        "  <thead>\n",
        "    <tr style=\"text-align: right;\">\n",
        "      <th></th>\n",
        "      <th>problems_completed</th>\n",
        "      <th>age_in_hours</th>\n",
        "      <th>a</th>\n",
        "      <th>c</th>\n",
        "      <th>g</th>\n",
        "      <th>e</th>\n",
        "      <th>m</th>\n",
        "      <th>time_per_problem</th>\n",
        "    </tr>\n",
        "  </thead>\n",
        "  <tbody>\n",
        "    <tr>\n",
        "      <th>0</th>\n",
        "      <td> 0.297521</td>\n",
        "      <td> 0.297521</td>\n",
        "      <td> 0</td>\n",
        "      <td> 0</td>\n",
        "      <td> 0</td>\n",
        "      <td> 1</td>\n",
        "      <td> 0</td>\n",
        "      <td> 0.297521</td>\n",
        "    </tr>\n",
        "    <tr>\n",
        "      <th>1</th>\n",
        "      <td> 0.190083</td>\n",
        "      <td> 0.190083</td>\n",
        "      <td> 0</td>\n",
        "      <td> 0</td>\n",
        "      <td> 0</td>\n",
        "      <td> 1</td>\n",
        "      <td> 0</td>\n",
        "      <td> 0.190083</td>\n",
        "    </tr>\n",
        "    <tr>\n",
        "      <th>2</th>\n",
        "      <td> 0.404959</td>\n",
        "      <td> 0.404959</td>\n",
        "      <td> 0</td>\n",
        "      <td> 0</td>\n",
        "      <td> 0</td>\n",
        "      <td> 1</td>\n",
        "      <td> 0</td>\n",
        "      <td> 0.404959</td>\n",
        "    </tr>\n",
        "    <tr>\n",
        "      <th>3</th>\n",
        "      <td> 0.206612</td>\n",
        "      <td> 0.206612</td>\n",
        "      <td> 0</td>\n",
        "      <td> 0</td>\n",
        "      <td> 0</td>\n",
        "      <td> 1</td>\n",
        "      <td> 0</td>\n",
        "      <td> 0.206612</td>\n",
        "    </tr>\n",
        "    <tr>\n",
        "      <th>4</th>\n",
        "      <td> 0.297521</td>\n",
        "      <td> 0.297521</td>\n",
        "      <td> 0</td>\n",
        "      <td> 0</td>\n",
        "      <td> 0</td>\n",
        "      <td> 0</td>\n",
        "      <td> 1</td>\n",
        "      <td> 0.297521</td>\n",
        "    </tr>\n",
        "  </tbody>\n",
        "</table>\n",
        "</div>"
       ],
       "metadata": {},
       "output_type": "pyout",
       "prompt_number": 192,
       "text": [
        "   problems_completed  age_in_hours  a  c  g  e  m  time_per_problem\n",
        "0            0.297521      0.297521  0  0  0  1  0          0.297521\n",
        "1            0.190083      0.190083  0  0  0  1  0          0.190083\n",
        "2            0.404959      0.404959  0  0  0  1  0          0.404959\n",
        "3            0.206612      0.206612  0  0  0  1  0          0.206612\n",
        "4            0.297521      0.297521  0  0  0  0  1          0.297521"
       ]
      }
     ],
     "prompt_number": 192
    },
    {
     "cell_type": "code",
     "collapsed": false,
     "input": [
      "def pca_analysis(X,N):\n",
      "    #input an array style data set\n",
      "    #number of components to analyze\n",
      "    n = N\n",
      "    comp_id=[]\n",
      "    for i in range(1,n+1):\n",
      "        comp_id.append(i)      #id number of each component\n",
      "    pca = PCA(n_components = n)\n",
      "    X_r = pca.fit(X).transform(X)\n",
      "    \n",
      "    \n",
      "    ratios = pca.explained_variance_ratio_\n",
      "    print \"\\n\"\n",
      "    print \"Ratios of Variance Explained: \", ratios\n",
      "    sum_ratios = pca.explained_variance_ratio_.sum()\n",
      "    print \"\\n\"\n",
      "    print \"Total Variance Explained: \", sum_ratios\n",
      "    \n",
      "    #Scree Plot\n",
      "    fig = plt.figure(figsize=(8,5))\n",
      "    plt.plot(comp_id, ratios, 'ro-')\n",
      "    plt.title('Scree Plot')\n",
      "    plt.xlabel('Principal Component')\n",
      "    plt.ylabel('Eigenvalue')"
     ],
     "language": "python",
     "metadata": {},
     "outputs": [],
     "prompt_number": 193
    },
    {
     "cell_type": "code",
     "collapsed": false,
     "input": [
      "X = df_normalized[['problems_completed','age_in_hours','a','c','g','e','m','time_per_problem']].values"
     ],
     "language": "python",
     "metadata": {},
     "outputs": [],
     "prompt_number": 194
    },
    {
     "cell_type": "code",
     "collapsed": false,
     "input": [
      "pca_analysis(X,8)"
     ],
     "language": "python",
     "metadata": {},
     "outputs": [
      {
       "output_type": "stream",
       "stream": "stdout",
       "text": [
        "\n",
        "\n",
        "Ratios of Variance Explained:  [  4.09564685e-01   2.49636276e-01   1.73784161e-01   1.39814146e-01\n",
        "   2.72007325e-02   2.17654323e-27   8.11513341e-30   4.50901880e-36]\n",
        "\n",
        "\n",
        "Total Variance Explained:  1.0\n"
       ]
      },
      {
       "metadata": {},
       "output_type": "display_data",
       "png": "[encoded data removed]",
       "text": [
        "<matplotlib.figure.Figure at 0x1874eb38>"
       ]
      }
     ],
     "prompt_number": 195
    },
    {
     "cell_type": "code",
     "collapsed": false,
     "input": [],
     "language": "python",
     "metadata": {},
     "outputs": []
    }
   ],
   "metadata": {}
  }
 ]
}