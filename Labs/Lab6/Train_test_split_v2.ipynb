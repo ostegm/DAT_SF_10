{
 "metadata": {
  "name": "",
  "signature": "sha256:82c56c1559acb446a3856283c8632f94aee0a06d0cae765be2932a4c768c4f6d"
 },
 "nbformat": 3,
 "nbformat_minor": 0,
 "worksheets": [
  {
   "cells": [
    {
     "cell_type": "markdown",
     "metadata": {},
     "source": [
      "## HW3: Predicting Login Time\n",
      "_____________\n",
      "Otto Stegmaier\n",
      "DAT_10_SF\n",
      "10/26/14\n",
      "_____________"
     ]
    },
    {
     "cell_type": "markdown",
     "metadata": {},
     "source": [
      "_______________\n",
      "## Trying to split Dataframe to test if the model holds up\n",
      "___________\n",
      "1. Split into test train\n"
     ]
    },
    {
     "cell_type": "code",
     "collapsed": false,
     "input": [
      "#split DF into test/train groups\n",
      "\n",
      "test_idx = np.random.uniform(0, 1, len(df)) <= 0.8\n",
      "train = df[test_idx==True]\n",
      "test = df[test_idx==False]\n",
      "\n",
      "print \"Test set: \", len(test)\n",
      "print \"Train set: \", len(train)\n",
      "print \"Total: \", len(test)+len(train)"
     ],
     "language": "python",
     "metadata": {},
     "outputs": [
      {
       "output_type": "stream",
       "stream": "stdout",
       "text": [
        "Test set:  9724\n",
        "Train set:  38163\n",
        "Total:  47887\n"
       ]
      }
     ],
     "prompt_number": 227
    },
    {
     "cell_type": "markdown",
     "metadata": {},
     "source": [
      "2.. Run my OLS model (on the training set) to get coefficient values"
     ]
    },
    {
     "cell_type": "code",
     "collapsed": false,
     "input": [
      "result = smf.ols('seconds ~ problems_completed + age_in_hours', data=train).fit()\n",
      "intercept = result.params[0]\n",
      "b1 = result.params[1]\n",
      "b2 = result.params[2] \n",
      "# put these values into an array to do matrix multiplication \n",
      "list1 = [intercept,b1,b2]\n"
     ],
     "language": "python",
     "metadata": {},
     "outputs": [],
     "prompt_number": 228
    },
    {
     "cell_type": "markdown",
     "metadata": {},
     "source": [
      "3) I want to create an array of predicted Y values by multiplying list1 * X_vals"
     ]
    },
    {
     "cell_type": "code",
     "collapsed": false,
     "input": [
      "#put the X values of interest into a matrix with 1's prepended\n",
      "x_vals = test[['problems_completed','age_in_hours']].values\n",
      "X_vals = sm.add_constant(x_vals, prepend = True)\n",
      "\n",
      "    "
     ],
     "language": "python",
     "metadata": {},
     "outputs": [],
     "prompt_number": 229
    },
    {
     "cell_type": "code",
     "collapsed": false,
     "input": [
      "#calculate predicted y values based on actual x values and the model created in the training set\n",
      "\n",
      "predictions = []\n",
      "\n",
      "for num in range(0,len(X_vals)):\n",
      "    summ =0\n",
      "    k = X_vals[num]*list1\n",
      "    for i in k:\n",
      "        summ = summ + i\n",
      "\n",
      "    predictions.append(summ)\n",
      "    \n",
      "predictions[0:3]"
     ],
     "language": "python",
     "metadata": {},
     "outputs": [
      {
       "metadata": {},
       "output_type": "pyout",
       "prompt_number": 230,
       "text": [
        "[2666.5024636951316, 2721.2663293982237, 2254.8462505782923]"
       ]
      }
     ],
     "prompt_number": 230
    },
    {
     "cell_type": "code",
     "collapsed": false,
     "input": [
      "#put the actual Y values into an array\n",
      "actuals = test['seconds'].values.astype(np.float64)\n",
      "\n"
     ],
     "language": "python",
     "metadata": {},
     "outputs": [],
     "prompt_number": 231
    },
    {
     "cell_type": "code",
     "collapsed": false,
     "input": [
      "#compare the difference between actual and predicted value by adding up the squared difference then taking the square root\n",
      "\n",
      "total_diff = 0\n",
      "for i in range(0,len(actuals)):\n",
      "        diff_sqrd = (actuals[i] - predictions[i])**2 \n",
      "        total_diff+= diff_sqrd\n",
      "        \n",
      "MSE = total_diff**(0.5)/(float(len(actuals)))\n",
      "print \"Mean Squared Error: \", MSE"
     ],
     "language": "python",
     "metadata": {},
     "outputs": [
      {
       "output_type": "stream",
       "stream": "stdout",
       "text": [
        "Mean Squared Error:  8.20536064927\n"
       ]
      }
     ],
     "prompt_number": 232
    }
   ],
   "metadata": {}
  }
 ]
}