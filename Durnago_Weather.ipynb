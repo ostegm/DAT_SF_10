{
 "metadata": {
  "name": "",
  "signature": "sha256:00370e2940045e72c6f381e8370cc0df38f3641b11ea4709cb6c45fdfae160e1"
 },
 "nbformat": 3,
 "nbformat_minor": 0,
 "worksheets": [
  {
   "cells": [
    {
     "cell_type": "code",
     "collapsed": false,
     "input": [
      "import pandas as pd\n",
      "import json\n",
      "import urllib"
     ],
     "language": "python",
     "metadata": {},
     "outputs": [],
     "prompt_number": 1
    },
    {
     "cell_type": "code",
     "collapsed": false,
     "input": [
      "\n",
      "\n",
      "def get_historical_weather2(date):\n",
      "    \"\"\"\n",
      "    Get historical weather data for the given date range.\n",
      "    Date format is 'YYYYMMDD'\n",
      "    Documentation: http://www.wunderground.com/weather/api/d/docs?d=data/history&MR=1\n",
      "    Returns a json list.\n",
      "    \"\"\"\n",
      "    url = \"http://api.wunderground.com/api/11696493e53ca5af/history_20060405/q/CA/San_Francisco.json\"\n",
      "    day = urllib.urlopen(url).read()\n",
      "    return day"
     ],
     "language": "python",
     "metadata": {},
     "outputs": [],
     "prompt_number": 2
    },
    {
     "cell_type": "code",
     "collapsed": false,
     "input": [
      "r = get_historical_weather2(20091201)\n",
      "data = json.loads(r)\n"
     ],
     "language": "python",
     "metadata": {},
     "outputs": [],
     "prompt_number": 29
    },
    {
     "cell_type": "code",
     "collapsed": false,
     "input": [
      "df=pd.read_json(r,orient='records')\n"
     ],
     "language": "python",
     "metadata": {},
     "outputs": [],
     "prompt_number": 26
    },
    {
     "cell_type": "code",
     "collapsed": false,
     "input": [
      "df.head()"
     ],
     "language": "python",
     "metadata": {},
     "outputs": [
      {
       "html": [
        "<div style=\"max-height:1000px;max-width:1500px;overflow:auto;\">\n",
        "<table border=\"1\" class=\"dataframe\">\n",
        "  <thead>\n",
        "    <tr style=\"text-align: right;\">\n",
        "      <th></th>\n",
        "      <th>history</th>\n",
        "      <th>response</th>\n",
        "    </tr>\n",
        "  </thead>\n",
        "  <tbody>\n",
        "    <tr>\n",
        "      <th>dailysummary</th>\n",
        "      <td> [{u'maxpressurem': u'1020', u'maxdewptm': u'8'...</td>\n",
        "      <td>                                               NaN</td>\n",
        "    </tr>\n",
        "    <tr>\n",
        "      <th>date</th>\n",
        "      <td> {u'mday': u'05', u'hour': u'12', u'min': u'00'...</td>\n",
        "      <td>                                               NaN</td>\n",
        "    </tr>\n",
        "    <tr>\n",
        "      <th>features</th>\n",
        "      <td>                                               NaN</td>\n",
        "      <td>                                   {u'history': 1}</td>\n",
        "    </tr>\n",
        "    <tr>\n",
        "      <th>observations</th>\n",
        "      <td> [{u'heatindexm': u'-9999', u'windchillm': u'-9...</td>\n",
        "      <td>                                               NaN</td>\n",
        "    </tr>\n",
        "    <tr>\n",
        "      <th>termsofService</th>\n",
        "      <td>                                               NaN</td>\n",
        "      <td> http://www.wunderground.com/weather/api/d/term...</td>\n",
        "    </tr>\n",
        "  </tbody>\n",
        "</table>\n",
        "</div>"
       ],
       "metadata": {},
       "output_type": "pyout",
       "prompt_number": 27,
       "text": [
        "                                                          history  \\\n",
        "dailysummary    [{u'maxpressurem': u'1020', u'maxdewptm': u'8'...   \n",
        "date            {u'mday': u'05', u'hour': u'12', u'min': u'00'...   \n",
        "features                                                      NaN   \n",
        "observations    [{u'heatindexm': u'-9999', u'windchillm': u'-9...   \n",
        "termsofService                                                NaN   \n",
        "\n",
        "                                                         response  \n",
        "dailysummary                                                  NaN  \n",
        "date                                                          NaN  \n",
        "features                                          {u'history': 1}  \n",
        "observations                                                  NaN  \n",
        "termsofService  http://www.wunderground.com/weather/api/d/term...  "
       ]
      }
     ],
     "prompt_number": 27
    },
    {
     "cell_type": "code",
     "collapsed": false,
     "input": [],
     "language": "python",
     "metadata": {},
     "outputs": []
    },
    {
     "cell_type": "code",
     "collapsed": false,
     "input": [],
     "language": "python",
     "metadata": {},
     "outputs": []
    },
    {
     "cell_type": "markdown",
     "metadata": {},
     "source": [
      "## Ignore the stuff below here"
     ]
    },
    {
     "cell_type": "code",
     "collapsed": false,
     "input": [],
     "language": "python",
     "metadata": {},
     "outputs": []
    },
    {
     "cell_type": "code",
     "collapsed": false,
     "input": [
      "\n",
      "\n",
      "\n",
      "\n",
      "\n",
      "\n",
      "# import urllib\n",
      "\n",
      "# def get_historical_weather(date):\n",
      "#     \"\"\"\n",
      "#     Get historical weather data for the given date range.\n",
      "#     Date format is 'YYYYMMDD'\n",
      "#     Documentation: http://www.wunderground.com/weather/api/d/docs?d=data/history&MR=1\n",
      "#     Returns a json list.\n",
      "#     \"\"\"\n",
      "#     url = \"http://api.wunderground.com/api/11696493e53ca5af/history_YYYYMMDD/q/CO/Durango.json\"\n",
      "#     day = urllib.urlopen(url).readlines()\n",
      "#     return day"
     ],
     "language": "python",
     "metadata": {},
     "outputs": []
    }
   ],
   "metadata": {}
  }
 ]
}