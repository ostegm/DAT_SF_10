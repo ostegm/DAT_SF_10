{
 "metadata": {
  "name": "",
  "signature": "sha256:3778132b1dcfad1ca0a4239dd64448e70a6c439a1399665154b63c9c89094e47"
 },
 "nbformat": 3,
 "nbformat_minor": 0,
 "worksheets": [
  {
   "cells": [
    {
     "cell_type": "code",
     "collapsed": false,
     "input": [
      "import json\n",
      "import urllib\n",
      "import pandas as pd\n",
      "import datetime as dt\n",
      "import time"
     ],
     "language": "python",
     "metadata": {},
     "outputs": [],
     "prompt_number": 80
    },
    {
     "cell_type": "code",
     "collapsed": false,
     "input": [
      "#result['types'][0]['tickets'][2]\n",
      "#value price result['types'][0]['tickets'][0]['price_points'][0]['prices']['value']['price']"
     ],
     "language": "python",
     "metadata": {},
     "outputs": [],
     "prompt_number": 81
    },
    {
     "cell_type": "code",
     "collapsed": false,
     "input": [
      "dates = pd.date_range(20141201,20150315)"
     ],
     "language": "python",
     "metadata": {},
     "outputs": [],
     "prompt_number": 82
    },
    {
     "cell_type": "code",
     "collapsed": false,
     "input": [
      "## Get prices from Liftopia API\n",
      "## Product ID in url determines which product\n",
      "## Store type  = Liftopia vs Cloud Store\n",
      "##\n",
      "\n",
      "\n",
      "prices = []\n",
      "\n",
      "def get_liftopia(start_date,end_date):\n",
      "    '''dates must be in YYYY-MM-DD format, example '2014-11-29' (with quotes)'''\n",
      "    dates = pd.date_range(start_date,end_date)\n",
      "    for i in range(0,len(dates)):\n",
      "        request_date = str(dates[i])[0:10]\n",
      "        result = json.load(urllib.urlopen(\"https://services.liftopia.com/services/products/301?store=1&from=%s\" %request_date))     \n",
      "        pair = []\n",
      "        date = result['types'][0]['tickets'][0]['available_date']\n",
      "        price = int(str(result['types'][0]['tickets'][0]['price_points'][0]['prices']['value']['price'])[0:2])\n",
      "        pair.append(date)\n",
      "        pair.append(price)\n",
      "        prices.append(pair)\n",
      "        time.sleep(5)\n",
      "        print \"pausing 5 seconds before next request\"\n",
      "    return prices\n",
      "        "
     ],
     "language": "python",
     "metadata": {},
     "outputs": [],
     "prompt_number": 83
    },
    {
     "cell_type": "code",
     "collapsed": false,
     "input": [
      "prices = get_liftopia('2014-12-01','2014-12-05')"
     ],
     "language": "python",
     "metadata": {},
     "outputs": [
      {
       "output_type": "stream",
       "stream": "stdout",
       "text": [
        "pausing 5 seconds before next request\n",
        "pausing 5 seconds before next request"
       ]
      },
      {
       "output_type": "stream",
       "stream": "stdout",
       "text": [
        "\n",
        "pausing 5 seconds before next request"
       ]
      },
      {
       "output_type": "stream",
       "stream": "stdout",
       "text": [
        "\n",
        "pausing 5 seconds before next request"
       ]
      },
      {
       "output_type": "stream",
       "stream": "stdout",
       "text": [
        "\n",
        "pausing 5 seconds before next request"
       ]
      },
      {
       "output_type": "stream",
       "stream": "stdout",
       "text": [
        "\n"
       ]
      }
     ],
     "prompt_number": 84
    },
    {
     "cell_type": "code",
     "collapsed": false,
     "input": [
      "prices"
     ],
     "language": "python",
     "metadata": {},
     "outputs": [
      {
       "metadata": {},
       "output_type": "pyout",
       "prompt_number": 85,
       "text": [
        "[[u'2014-12-01', 51],\n",
        " [u'2014-12-02', 25],\n",
        " [u'2014-12-03', 51],\n",
        " [u'2014-12-04', 51],\n",
        " [u'2014-12-05', 51]]"
       ]
      }
     ],
     "prompt_number": 85
    },
    {
     "cell_type": "code",
     "collapsed": false,
     "input": [
      "col_names = ['date','liftopia_adult']\n",
      "liftopia_prices = pd.DataFrame(prices,columns = col_names)"
     ],
     "language": "python",
     "metadata": {},
     "outputs": [],
     "prompt_number": 73
    },
    {
     "cell_type": "code",
     "collapsed": false,
     "input": [
      "liftopia_prices"
     ],
     "language": "python",
     "metadata": {},
     "outputs": [
      {
       "html": [
        "<div style=\"max-height:1000px;max-width:1500px;overflow:auto;\">\n",
        "<table border=\"1\" class=\"dataframe\">\n",
        "  <thead>\n",
        "    <tr style=\"text-align: right;\">\n",
        "      <th></th>\n",
        "      <th>date</th>\n",
        "      <th>liftopia_adult</th>\n",
        "    </tr>\n",
        "  </thead>\n",
        "  <tbody>\n",
        "    <tr>\n",
        "      <th>0</th>\n",
        "      <td> 2014-12-01</td>\n",
        "      <td> 51</td>\n",
        "    </tr>\n",
        "    <tr>\n",
        "      <th>1</th>\n",
        "      <td> 2014-12-02</td>\n",
        "      <td> 25</td>\n",
        "    </tr>\n",
        "    <tr>\n",
        "      <th>2</th>\n",
        "      <td> 2014-12-03</td>\n",
        "      <td> 51</td>\n",
        "    </tr>\n",
        "    <tr>\n",
        "      <th>3</th>\n",
        "      <td> 2014-12-04</td>\n",
        "      <td> 51</td>\n",
        "    </tr>\n",
        "    <tr>\n",
        "      <th>4</th>\n",
        "      <td> 2014-12-05</td>\n",
        "      <td> 51</td>\n",
        "    </tr>\n",
        "  </tbody>\n",
        "</table>\n",
        "</div>"
       ],
       "metadata": {},
       "output_type": "pyout",
       "prompt_number": 74,
       "text": [
        "         date  liftopia_adult\n",
        "0  2014-12-01              51\n",
        "1  2014-12-02              25\n",
        "2  2014-12-03              51\n",
        "3  2014-12-04              51\n",
        "4  2014-12-05              51"
       ]
      }
     ],
     "prompt_number": 74
    }
   ],
   "metadata": {}
  }
 ]
}