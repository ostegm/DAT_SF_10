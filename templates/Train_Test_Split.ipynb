{
 "metadata": {
  "name": "",
  "signature": "sha256:92179ef5e101b8ec93372ca060a1b2dda4594f03485e7edd7d7cba0dc23e4297"
 },
 "nbformat": 3,
 "nbformat_minor": 0,
 "worksheets": [
  {
   "cells": [
    {
     "cell_type": "markdown",
     "metadata": {},
     "source": [
      "## Trying to split Dataframe to test if the model holds up\n",
      "___________\n",
      "1. Split into test train\n"
     ]
    },
    {
     "cell_type": "code",
     "collapsed": false,
     "input": [
      "#split DF into test/train groups\n",
      "\n",
      "test_idx = np.random.uniform(0, 1, len(df)) <= 0.8\n",
      "train = df[test_idx==True]\n",
      "test = df[test_idx==False]\n",
      "\n",
      "print \"Test set: \", len(test)\n",
      "print \"Train set: \", len(train)\n",
      "print \"Total: \", len(test)+len(train)"
     ],
     "language": "python",
     "metadata": {},
     "outputs": []
    },
    {
     "cell_type": "markdown",
     "metadata": {},
     "source": [
      "2.. Run my OLS model (on the training set) to get coefficient values\n",
      "The model produces function:\n",
      "-------------\n",
      "    Y = Intercept*Constant + B1*problems_completet + B2*age_in_hours\n"
     ]
    },
    {
     "cell_type": "code",
     "collapsed": false,
     "input": [
      "result = smf.ols('seconds ~ problems_completed + age_in_hours', data=train).fit()\n",
      "intercept = result.params[0]\n",
      "b1 = result.params[1]\n",
      "b2 = result.params[2] \n",
      "# put these values into an array to do matrix multiplication \n",
      "list1 = [intercept,b1,b2]"
     ],
     "language": "python",
     "metadata": {},
     "outputs": [],
     "prompt_number": 3
    },
    {
     "cell_type": "code",
     "collapsed": false,
     "input": [
      "#put the X values of interest into a matrix with 1's prepended\n",
      "x_vals = test[['problems_completed','age_in_hours']].values\n",
      "X_vals = sm.add_constant(x, prepend = True)\n",
      "\n",
      "\n"
     ],
     "language": "python",
     "metadata": {},
     "outputs": []
    },
    {
     "cell_type": "markdown",
     "metadata": {},
     "source": [
      "#THIS IS WHERE I GET LOST!!!!!!!!!!!\n",
      "____________\n",
      "3) I want to create an array of predicted Y values by multiplying list1 * X_vals"
     ]
    },
    {
     "cell_type": "code",
     "collapsed": false,
     "input": [
      "\n",
      "predictions = ??\n",
      "#put the actual Y values into an array\n",
      "actuals = test['seconds'].values.astype(np.float64)\n",
      "\n"
     ],
     "language": "python",
     "metadata": {},
     "outputs": []
    },
    {
     "cell_type": "markdown",
     "metadata": {},
     "source": [
      "4) Compare the difference between predictions and actual values"
     ]
    },
    {
     "cell_type": "code",
     "collapsed": false,
     "input": [
      "#compare the difference between actual and predicted value by adding up the squared difference then taking the square root\n",
      "for i in actuals:\n",
      "        diff_sqrd = (actuals[i] - predictions[i])**2 \n",
      "        total_diff+= diff_sqrd\n",
      "        \n",
      "        \n",
      "MSE = total_diff**(0.5)/(flot(len(actuals)))\n",
      "print \"Mean Squared Error: \" MSE"
     ],
     "language": "python",
     "metadata": {},
     "outputs": []
    }
   ],
   "metadata": {}
  }
 ]
}