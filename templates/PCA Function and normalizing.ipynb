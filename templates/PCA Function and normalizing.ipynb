{
 "metadata": {
  "name": "",
  "signature": "sha256:5f33b54bd7769fee9a9ee93c60d0609e751c49564246cfcae24dcde0ba3369f0"
 },
 "nbformat": 3,
 "nbformat_minor": 0,
 "worksheets": [
  {
   "cells": [
    {
     "cell_type": "code",
     "collapsed": false,
     "input": [
      "from sklearn.decomposition import PCA, RandomizedPCA\n",
      "from sklearn import preprocessing"
     ],
     "language": "python",
     "metadata": {},
     "outputs": []
    },
    {
     "cell_type": "code",
     "collapsed": false,
     "input": [
      "def pca_analysis(X,N):\n",
      "    #input an array style data set\n",
      "    #number of components to analyze\n",
      "    n = N\n",
      "    comp_id=[]\n",
      "    for i in range(1,n+1):\n",
      "        comp_id.append(i)      #id number of each component\n",
      "    pca = PCA(n_components = n)\n",
      "    X_r = pca.fit(X).transform(X)\n",
      "    \n",
      "    \n",
      "    ratios = pca.explained_variance_ratio_\n",
      "    print \"\\n\"\n",
      "    print \"Ratios of Variance Explained: \", ratios\n",
      "    sum_ratios = pca.explained_variance_ratio_.sum()\n",
      "    print \"\\n\"\n",
      "    print \"Total Variance Explained: \", sum_ratios\n",
      "    \n",
      "    #Scree Plot\n",
      "    fig = plt.figure(figsize=(8,5))\n",
      "    plt.plot(comp_id, ratios, 'ro-')\n",
      "    plt.title('Scree Plot')\n",
      "    plt.xlabel('Principal Component')\n",
      "    plt.ylabel('Eigenvalue')"
     ],
     "language": "python",
     "metadata": {},
     "outputs": []
    },
    {
     "cell_type": "code",
     "collapsed": false,
     "input": [
      "#Normalizing the three non-binary variables\n",
      "\n",
      "v = df_normalized.problems_completed.values.astype(float) #returns a numpy array\n",
      "min_max_scaler = preprocessing.MinMaxScaler()\n",
      "v_scaled = min_max_scaler.fit_transform(v)\n",
      "df_normalized.problems_completed = v_scaled\n",
      "\n",
      "g = df_normalized.age_in_hours.values.astype(float) #returns a numpy array\n",
      "min_max_scaler = preprocessing.MinMaxScaler()\n",
      "g_scaled = min_max_scaler.fit_transform(v)\n",
      "df_normalized.age_in_hours = g_scaled\n",
      "\n",
      "u = df_normalized.time_per_problem.values.astype(float) #returns a numpy array\n",
      "min_max_scaler = preprocessing.MinMaxScaler()\n",
      "u_scaled = min_max_scaler.fit_transform(v)\n",
      "df_normalized.time_per_problem = u_scaled\n"
     ],
     "language": "python",
     "metadata": {},
     "outputs": []
    },
    {
     "cell_type": "code",
     "collapsed": false,
     "input": [],
     "language": "python",
     "metadata": {},
     "outputs": []
    }
   ],
   "metadata": {}
  }
 ]
}