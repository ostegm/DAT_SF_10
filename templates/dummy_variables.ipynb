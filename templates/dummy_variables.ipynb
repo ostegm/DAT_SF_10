{
 "metadata": {
  "name": "",
  "signature": "sha256:f6f702617e8b54a21e2954343351db2d060e5a9752a3ee886959ec979646ef50"
 },
 "nbformat": 3,
 "nbformat_minor": 0,
 "worksheets": [
  {
   "cells": [
    {
     "cell_type": "code",
     "collapsed": false,
     "input": [
      "# def dummy_variables(data, data_type_dict):\n",
      "#     #Loop over nominal variables.\n",
      "#     for variable in filter(lambda x: data_type_dict[x]=='nominal',\n",
      "#                            data_type_dict.keys()):\n",
      " \n",
      "#         #First we create the columns with dummy variables.\n",
      "#         #Note that the argument 'prefix' means the column names will be\n",
      "#         #prefix_value for each unique value in the original column, so\n",
      "#         #we set the prefix to be the name of the original variable.\n",
      "#         dummy_df=pd.get_dummies(data[variable], prefix=variable)\n",
      " \n",
      "#         #Remove old variable from dictionary.\n",
      "#         data_type_dict.pop(variable)\n",
      " \n",
      "#         #Add new dummy variables to dictionary.\n",
      "#         for dummy_variable in dummy_df.columns:\n",
      "#             data_type_dict[dummy_variable] = 'nominal'\n",
      " \n",
      "#         #Add dummy variables to main df.\n",
      "#         data=data.drop(variable, axis=1)\n",
      "#         data=data.join(dummy_df)\n",
      " \n",
      "#     return [data, data_type_dict]"
     ],
     "language": "python",
     "metadata": {},
     "outputs": []
    }
   ],
   "metadata": {}
  }
 ]
}