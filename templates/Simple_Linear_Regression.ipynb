{
 "metadata": {
  "name": "",
  "signature": "sha256:1d362b701bbb2a574faa3aa8c488cf7c1b56fca102c5d3338eefc8e447b4266f"
 },
 "nbformat": 3,
 "nbformat_minor": 0,
 "worksheets": [
  {
   "cells": [
    {
     "cell_type": "code",
     "collapsed": false,
     "input": [
      "#simple regressi0n: problems completed ~ seconds\n",
      "\n",
      "y = df['problems_completed'].values\n",
      "x = df['seconds'].values.astype(np.float64)\n",
      "X = sm.add_constant(x, prepend = True)\n",
      "\n",
      "result = sm.OLS(y,X).fit()\n",
      "intercept, slope = result.params\n",
      "r_2 = result.rsquared\n",
      "\n",
      "#plot x, y in color blue using a circle\n",
      "plt.plot(x, y, 'bx')\n",
      "plt.title(\"Time Passed vs Problems Completed\")\n",
      "\n",
      "#manual creation of a line, color red, use symbol -\n",
      "#x2 = np.array([min(x), max(x)])\n",
      "y2 = intercept + slope * x2\n",
      "plt.plot(,y2, 'r--')\n",
      "plt.show\n",
      "\n"
     ],
     "language": "python",
     "metadata": {},
     "outputs": []
    }
   ],
   "metadata": {}
  }
 ]
}