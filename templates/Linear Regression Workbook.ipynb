{
 "metadata": {
  "name": "",
  "signature": "sha256:5c10703041dcf7b9e366f1c18d5efcd471c0487dbb5744afa7079abe7564e63a"
 },
 "nbformat": 3,
 "nbformat_minor": 0,
 "worksheets": [
  {
   "cells": [
    {
     "cell_type": "markdown",
     "metadata": {},
     "source": [
      "##Linear Regression\n",
      "working through the notes from:\n",
      "http://connor-johnson.com/2014/02/18/linear-regression-with-python/#comments\n",
      "\n",
      "Tests of the model:\n",
      "1. adjusted r^2 goes down as model complexity increases\\n\n",
      "2. AIC and BIC values: lower is better, BIC penalizes complexity slightly more\n",
      "3. F statistic, prob of observing an F stat more extreme (lower is better) \n",
      "\n",
      "Tests of the coefficients\n",
      "1.  t statistics = Coefficient divided by standard error, \n",
      "2. probability of observing a t stat as extreme (lower is better!) \n",
      "3. Numb 2 is \"two stided t test\" = 2 * area under the curve past the value of t stat\n",
      "4. confidence interval: 95% of results would fall in this area (so tail size on each side is 0.025)\n",
      "\n",
      "Tests of Normalness (skew, kurtosis)\n",
      "1. Probability(omnibus) = low prob means the distribution of the residuals is not normal (ie not good to use OLS)\n",
      "2. Durbin-Watson - looking at autocorrelation, ranges from 0-4, values near 2 are good. >2 = neg corr <1 means pos corr\n",
      "\n"
     ]
    },
    {
     "cell_type": "code",
     "collapsed": false,
     "input": [
      "%matplotlib inline\n",
      "import pandas as pd\n",
      "from pandas import DataFrame, Series\n",
      "import numpy as np\n",
      "import matplotlib.pyplot as plt\n",
      "import statsmodels.formula.api as sm\n",
      "from sklearn.linear_model import LinearRegression\n",
      "import scipy, scipy.stats\n"
     ],
     "language": "python",
     "metadata": {},
     "outputs": [],
     "prompt_number": 1
    },
    {
     "cell_type": "code",
     "collapsed": false,
     "input": [
      "df = pd.read_csv('lin_reg_data.csv',  nrows = 11)"
     ],
     "language": "python",
     "metadata": {},
     "outputs": [],
     "prompt_number": 45
    },
    {
     "cell_type": "code",
     "collapsed": false,
     "input": [
      "df"
     ],
     "language": "python",
     "metadata": {},
     "outputs": [
      {
       "html": [
        "<div style=\"max-height:1000px;max-width:1500px;overflow:auto;\">\n",
        "<table border=\"1\" class=\"dataframe\">\n",
        "  <thead>\n",
        "    <tr style=\"text-align: right;\">\n",
        "      <th></th>\n",
        "      <th>Region</th>\n",
        "      <th>Alcohol</th>\n",
        "      <th>Tobacco</th>\n",
        "    </tr>\n",
        "  </thead>\n",
        "  <tbody>\n",
        "    <tr>\n",
        "      <th>0 </th>\n",
        "      <td>            North</td>\n",
        "      <td> 6.47</td>\n",
        "      <td> 4.03</td>\n",
        "    </tr>\n",
        "    <tr>\n",
        "      <th>1 </th>\n",
        "      <td>        Yorkshire</td>\n",
        "      <td> 6.13</td>\n",
        "      <td> 3.76</td>\n",
        "    </tr>\n",
        "    <tr>\n",
        "      <th>2 </th>\n",
        "      <td>        Northeast</td>\n",
        "      <td> 6.19</td>\n",
        "      <td> 3.77</td>\n",
        "    </tr>\n",
        "    <tr>\n",
        "      <th>3 </th>\n",
        "      <td>    East Midlands</td>\n",
        "      <td> 4.89</td>\n",
        "      <td> 3.34</td>\n",
        "    </tr>\n",
        "    <tr>\n",
        "      <th>4 </th>\n",
        "      <td>    West Midlands</td>\n",
        "      <td> 5.63</td>\n",
        "      <td> 3.47</td>\n",
        "    </tr>\n",
        "    <tr>\n",
        "      <th>5 </th>\n",
        "      <td>     East Angliea</td>\n",
        "      <td> 4.52</td>\n",
        "      <td> 2.92</td>\n",
        "    </tr>\n",
        "    <tr>\n",
        "      <th>6 </th>\n",
        "      <td>        Southeast</td>\n",
        "      <td> 5.89</td>\n",
        "      <td> 3.20</td>\n",
        "    </tr>\n",
        "    <tr>\n",
        "      <th>7 </th>\n",
        "      <td>        Southwest</td>\n",
        "      <td> 4.79</td>\n",
        "      <td> 2.71</td>\n",
        "    </tr>\n",
        "    <tr>\n",
        "      <th>8 </th>\n",
        "      <td>            Wales</td>\n",
        "      <td> 5.27</td>\n",
        "      <td> 3.53</td>\n",
        "    </tr>\n",
        "    <tr>\n",
        "      <th>9 </th>\n",
        "      <td>         Scotland</td>\n",
        "      <td> 6.08</td>\n",
        "      <td> 4.51</td>\n",
        "    </tr>\n",
        "    <tr>\n",
        "      <th>10</th>\n",
        "      <td> Northern Ireland</td>\n",
        "      <td> 4.02</td>\n",
        "      <td> 4.56</td>\n",
        "    </tr>\n",
        "  </tbody>\n",
        "</table>\n",
        "</div>"
       ],
       "metadata": {},
       "output_type": "pyout",
       "prompt_number": 46,
       "text": [
        "              Region  Alcohol  Tobacco\n",
        "0              North     6.47     4.03\n",
        "1          Yorkshire     6.13     3.76\n",
        "2          Northeast     6.19     3.77\n",
        "3      East Midlands     4.89     3.34\n",
        "4      West Midlands     5.63     3.47\n",
        "5       East Angliea     4.52     2.92\n",
        "6          Southeast     5.89     3.20\n",
        "7          Southwest     4.79     2.71\n",
        "8              Wales     5.27     3.53\n",
        "9           Scotland     6.08     4.51\n",
        "10  Northern Ireland     4.02     4.56"
       ]
      }
     ],
     "prompt_number": 46
    },
    {
     "cell_type": "code",
     "collapsed": false,
     "input": [
      "plt.scatter( df.Tobacco, df.Alcohol,\n",
      "         marker='o',\n",
      "         edgecolor='b',\n",
      "         facecolor='none',\n",
      "         alpha=0.5 )\n",
      "plt.xlabel('Tobacco')\n",
      "plt. ylabel('Alcohol')\n",
      "plt.savefig('alcohol_v_tobacco.png', fmt='png', dpi=100)\n"
     ],
     "language": "python",
     "metadata": {},
     "outputs": [
      {
       "metadata": {},
       "output_type": "display_data",
       "png": "[encoded data removed]",
       "text": [
        "<matplotlib.figure.Figure at 0x16d7d588>"
       ]
      }
     ],
     "prompt_number": 47
    },
    {
     "cell_type": "code",
     "collapsed": false,
     "input": [
      "#Linear Regression using sm.OLS\n",
      "#Note, skipping the last variable\n",
      "\n",
      "df['Eins'] = np.ones(len(df),)\n",
      "Y = df.Alcohol[:-1]\n",
      "X = df[['Tobacco', 'Eins']][:-1]\n",
      "results = sm.OLS(Y,X).fit()\n",
      "results.summary()\n",
      "\n"
     ],
     "language": "python",
     "metadata": {},
     "outputs": [
      {
       "output_type": "stream",
       "stream": "stderr",
       "text": [
        "C:\\Anaconda\\lib\\site-packages\\scipy\\stats\\stats.py:1205: UserWarning: kurtosistest only valid for n>=20 ... continuing anyway, n=10\n",
        "  int(n))\n"
       ]
      },
      {
       "html": [
        "<table class=\"simpletable\">\n",
        "<caption>OLS Regression Results</caption>\n",
        "<tr>\n",
        "  <th>Dep. Variable:</th>         <td>Alcohol</td>     <th>  R-squared:         </th> <td>   0.615</td>\n",
        "</tr>\n",
        "<tr>\n",
        "  <th>Model:</th>                   <td>OLS</td>       <th>  Adj. R-squared:    </th> <td>   0.567</td>\n",
        "</tr>\n",
        "<tr>\n",
        "  <th>Method:</th>             <td>Least Squares</td>  <th>  F-statistic:       </th> <td>   12.78</td>\n",
        "</tr>\n",
        "<tr>\n",
        "  <th>Date:</th>             <td>Sat, 25 Oct 2014</td> <th>  Prob (F-statistic):</th>  <td>0.00723</td>\n",
        "</tr>\n",
        "<tr>\n",
        "  <th>Time:</th>                 <td>15:52:05</td>     <th>  Log-Likelihood:    </th> <td> -4.9998</td>\n",
        "</tr>\n",
        "<tr>\n",
        "  <th>No. Observations:</th>      <td>    10</td>      <th>  AIC:               </th> <td>   14.00</td>\n",
        "</tr>\n",
        "<tr>\n",
        "  <th>Df Residuals:</th>          <td>     8</td>      <th>  BIC:               </th> <td>   14.60</td>\n",
        "</tr>\n",
        "<tr>\n",
        "  <th>Df Model:</th>              <td>     1</td>      <th>                     </th>     <td> </td>   \n",
        "</tr>\n",
        "</table>\n",
        "<table class=\"simpletable\">\n",
        "<tr>\n",
        "     <td></td>        <th>coef</th>     <th>std err</th>      <th>t</th>      <th>P>|t|</th> <th>[95.0% Conf. Int.]</th> \n",
        "</tr>\n",
        "<tr>\n",
        "  <th>Tobacco</th> <td>    1.0059</td> <td>    0.281</td> <td>    3.576</td> <td> 0.007</td> <td>    0.357     1.655</td>\n",
        "</tr>\n",
        "<tr>\n",
        "  <th>Eins</th>    <td>    2.0412</td> <td>    1.001</td> <td>    2.038</td> <td> 0.076</td> <td>   -0.268     4.350</td>\n",
        "</tr>\n",
        "</table>\n",
        "<table class=\"simpletable\">\n",
        "<tr>\n",
        "  <th>Omnibus:</th>       <td> 2.542</td> <th>  Durbin-Watson:     </th> <td>   1.975</td>\n",
        "</tr>\n",
        "<tr>\n",
        "  <th>Prob(Omnibus):</th> <td> 0.281</td> <th>  Jarque-Bera (JB):  </th> <td>   0.904</td>\n",
        "</tr>\n",
        "<tr>\n",
        "  <th>Skew:</th>          <td>-0.014</td> <th>  Prob(JB):          </th> <td>   0.636</td>\n",
        "</tr>\n",
        "<tr>\n",
        "  <th>Kurtosis:</th>      <td> 1.527</td> <th>  Cond. No.          </th> <td>    27.2</td>\n",
        "</tr>\n",
        "</table>"
       ],
       "metadata": {},
       "output_type": "pyout",
       "prompt_number": 55,
       "text": [
        "<class 'statsmodels.iolib.summary.Summary'>\n",
        "\"\"\"\n",
        "                            OLS Regression Results                            \n",
        "==============================================================================\n",
        "Dep. Variable:                Alcohol   R-squared:                       0.615\n",
        "Model:                            OLS   Adj. R-squared:                  0.567\n",
        "Method:                 Least Squares   F-statistic:                     12.78\n",
        "Date:                Sat, 25 Oct 2014   Prob (F-statistic):            0.00723\n",
        "Time:                        15:52:05   Log-Likelihood:                -4.9998\n",
        "No. Observations:                  10   AIC:                             14.00\n",
        "Df Residuals:                       8   BIC:                             14.60\n",
        "Df Model:                           1                                         \n",
        "==============================================================================\n",
        "                 coef    std err          t      P>|t|      [95.0% Conf. Int.]\n",
        "------------------------------------------------------------------------------\n",
        "Tobacco        1.0059      0.281      3.576      0.007         0.357     1.655\n",
        "Eins           2.0412      1.001      2.038      0.076        -0.268     4.350\n",
        "==============================================================================\n",
        "Omnibus:                        2.542   Durbin-Watson:                   1.975\n",
        "Prob(Omnibus):                  0.281   Jarque-Bera (JB):                0.904\n",
        "Skew:                          -0.014   Prob(JB):                        0.636\n",
        "Kurtosis:                       1.527   Cond. No.                         27.2\n",
        "==============================================================================\n",
        "\"\"\""
       ]
      }
     ],
     "prompt_number": 55
    },
    {
     "cell_type": "code",
     "collapsed": false,
     "input": [
      "results.params"
     ],
     "language": "python",
     "metadata": {},
     "outputs": [
      {
       "metadata": {},
       "output_type": "pyout",
       "prompt_number": 57,
       "text": [
        "Tobacco    1.005896\n",
        "Eins       2.041223\n",
        "dtype: float64"
       ]
      }
     ],
     "prompt_number": 57
    },
    {
     "cell_type": "code",
     "collapsed": false,
     "input": [
      "#Calculating Standard Error manually\n",
      "X = df.Tobacco[:-1]\n",
      "#add ones\n",
      "X = np.vstack((X,np.ones(X.size)))\n",
      "X=np.matrix(X)\n",
      "C= np.linalg.inv(X*X.T)\n",
      "C*=results.mse_resid\n",
      "SE = np.sqrt(C)"
     ],
     "language": "python",
     "metadata": {},
     "outputs": [],
     "prompt_number": 69
    },
    {
     "cell_type": "code",
     "collapsed": false,
     "input": [
      "SE"
     ],
     "language": "python",
     "metadata": {},
     "outputs": [
      {
       "metadata": {},
       "output_type": "pyout",
       "prompt_number": 70,
       "text": [
        "matrix([[ 0.28132158,         nan],\n",
        "        [        nan,  1.00136021]])"
       ]
      }
     ],
     "prompt_number": 70
    },
    {
     "cell_type": "code",
     "collapsed": false,
     "input": [
      "#calculating t stat\n",
      "i = 0\n",
      "beta = results.params[i]\n",
      "se = SE[i,i]\n",
      "t = beta/se\n",
      "print \"t: \",t"
     ],
     "language": "python",
     "metadata": {},
     "outputs": [
      {
       "output_type": "stream",
       "stream": "stdout",
       "text": [
        "t:  3.57560845424\n"
       ]
      }
     ],
     "prompt_number": 72
    },
    {
     "cell_type": "code",
     "collapsed": false,
     "input": [
      "#getting p value for that T stat\n",
      "N = results.nobs\n",
      "P = results.df_model\n",
      "dof = N-P-1\n",
      "hp = 1.0 - scipy.stats.t(dof).cdf(t)\n",
      "p = hp*2.0\n",
      "p"
     ],
     "language": "python",
     "metadata": {},
     "outputs": [
      {
       "metadata": {},
       "output_type": "pyout",
       "prompt_number": 74,
       "text": [
        "0.0072343583517291421"
       ]
      }
     ],
     "prompt_number": 74
    },
    {
     "cell_type": "code",
     "collapsed": false,
     "input": [
      "#calculating Confidence interval\n",
      "i = 0\n",
      "Beta, c = results.params[i], SE[i,i]\n",
      "N = results.nobs\n",
      "P = results.df_model\n",
      "dof = N-P-1\n",
      "z = scipy.stats.t(dof).ppf(0.975)\n",
      "\n",
      "print beta-z*c, beta +z*c"
     ],
     "language": "python",
     "metadata": {},
     "outputs": [
      {
       "output_type": "stream",
       "stream": "stdout",
       "text": [
        "0.357167097503 1.65462456717\n"
       ]
      }
     ],
     "prompt_number": 76
    },
    {
     "cell_type": "code",
     "collapsed": false,
     "input": [],
     "language": "python",
     "metadata": {},
     "outputs": []
    }
   ],
   "metadata": {}
  }
 ]
}