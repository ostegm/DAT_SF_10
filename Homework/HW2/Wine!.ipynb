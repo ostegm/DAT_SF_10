{
 "metadata": {
  "name": "",
  "signature": "sha256:dfc35d476bbc5e0345c957b174c0d870f211f8785423e96ab4c903f9aa5d124e"
 },
 "nbformat": 3,
 "nbformat_minor": 0,
 "worksheets": [
  {
   "cells": [
    {
     "cell_type": "code",
     "collapsed": false,
     "input": [
      "import pandas as pd\n",
      "import pylab as pl\n",
      "import numpy as np\n",
      "from sklearn.neighbors import KNeighborsClassifier\n",
      " \n",
      " \n",
      "df = pd.read_csv(\"https://s3.amazonaws.com/demo-datasets/wine.csv\")\n",
      " \n"
     ],
     "language": "python",
     "metadata": {},
     "outputs": [
      {
       "output_type": "stream",
       "stream": "stdout",
       "text": [
        "hi\n"
       ]
      }
     ],
     "prompt_number": 1
    },
    {
     "cell_type": "code",
     "collapsed": false,
     "input": [
      "test_idx = np.random.uniform(0, 1, len(df)) <= 0.3\n",
      "train = df[test_idx==True]\n",
      "test = df[test_idx==False]\n",
      "\n",
      "test_idx"
     ],
     "language": "python",
     "metadata": {},
     "outputs": [
      {
       "metadata": {},
       "output_type": "pyout",
       "prompt_number": 10,
       "text": [
        "array([False, False, False, ..., False,  True, False], dtype=bool)"
       ]
      }
     ],
     "prompt_number": 10
    },
    {
     "cell_type": "code",
     "collapsed": false,
     "input": [
      "features = ['density', 'sulphates', 'residual_sugar']\n",
      " \n",
      "results = []\n",
      "for n in range(1, 51, 2):\n",
      "    clf = KNeighborsClassifier(n_neighbors=n)\n",
      "    clf.fit(train[features], train['high_quality'])\n",
      "    preds = clf.predict(test[features])\n",
      "    accuracy = np.where(preds==test['high_quality'], 1, 0).sum() / float(len(test))\n",
      "    print \"Neighbors: %d, Accuracy: %3f\" % (n, accuracy)\n",
      " \n",
      "    results.append([n, accuracy])\n",
      " \n",
      "results = pd.DataFrame(results, columns=[\"n\", \"accuracy\"])\n",
      " \n",
      "pl.plot(results.n, results.accuracy)\n",
      "pl.title(\"Accuracy with Increasing K\")\n",
      "pl.show()"
     ],
     "language": "python",
     "metadata": {},
     "outputs": []
    },
    {
     "cell_type": "code",
     "collapsed": false,
     "input": [],
     "language": "python",
     "metadata": {},
     "outputs": []
    }
   ],
   "metadata": {}
  }
 ]
}