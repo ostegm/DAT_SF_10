{
 "metadata": {
  "name": "",
  "signature": "sha256:b3cd89b8d28da87b3d0e3d1a7e9c883b89595fb25f40559eb4f2b0ff6df936f3"
 },
 "nbformat": 3,
 "nbformat_minor": 0,
 "worksheets": [
  {
   "cells": [
    {
     "cell_type": "markdown",
     "metadata": {},
     "source": [
      "Otto Stegmaier\n",
      "Homework 2, Dat_10_SF\n",
      "10/19/14"
     ]
    },
    {
     "cell_type": "code",
     "collapsed": false,
     "input": [
      "import pandas as pd\n",
      "import numpy as np\n",
      "import matplotlib.pyplot as plt\n",
      "\n",
      "column_labels = ['Sepal Length','Sepal Width', 'Petal Length', 'Petal Width', 'Class', 'Class_label']\n",
      "\n",
      "df = pd.read_csv('iris.csv', names = column_labels, nrows =150)\n",
      "df.tail()"
     ],
     "language": "python",
     "metadata": {},
     "outputs": [
      {
       "html": [
        "<div style=\"max-height:1000px;max-width:1500px;overflow:auto;\">\n",
        "<table border=\"1\" class=\"dataframe\">\n",
        "  <thead>\n",
        "    <tr style=\"text-align: right;\">\n",
        "      <th></th>\n",
        "      <th>Sepal Length</th>\n",
        "      <th>Sepal Width</th>\n",
        "      <th>Petal Length</th>\n",
        "      <th>Petal Width</th>\n",
        "      <th>Class</th>\n",
        "      <th>Class_label</th>\n",
        "    </tr>\n",
        "  </thead>\n",
        "  <tbody>\n",
        "    <tr>\n",
        "      <th>145</th>\n",
        "      <td> 6.7</td>\n",
        "      <td> 3.0</td>\n",
        "      <td> 5.2</td>\n",
        "      <td> 2.3</td>\n",
        "      <td> Iris-virginica</td>\n",
        "      <td>NaN</td>\n",
        "    </tr>\n",
        "    <tr>\n",
        "      <th>146</th>\n",
        "      <td> 6.3</td>\n",
        "      <td> 2.5</td>\n",
        "      <td> 5.0</td>\n",
        "      <td> 1.9</td>\n",
        "      <td> Iris-virginica</td>\n",
        "      <td>NaN</td>\n",
        "    </tr>\n",
        "    <tr>\n",
        "      <th>147</th>\n",
        "      <td> 6.5</td>\n",
        "      <td> 3.0</td>\n",
        "      <td> 5.2</td>\n",
        "      <td> 2.0</td>\n",
        "      <td> Iris-virginica</td>\n",
        "      <td>NaN</td>\n",
        "    </tr>\n",
        "    <tr>\n",
        "      <th>148</th>\n",
        "      <td> 6.2</td>\n",
        "      <td> 3.4</td>\n",
        "      <td> 5.4</td>\n",
        "      <td> 2.3</td>\n",
        "      <td> Iris-virginica</td>\n",
        "      <td>NaN</td>\n",
        "    </tr>\n",
        "    <tr>\n",
        "      <th>149</th>\n",
        "      <td> 5.9</td>\n",
        "      <td> 3.0</td>\n",
        "      <td> 5.1</td>\n",
        "      <td> 1.8</td>\n",
        "      <td> Iris-virginica</td>\n",
        "      <td>NaN</td>\n",
        "    </tr>\n",
        "  </tbody>\n",
        "</table>\n",
        "</div>"
       ],
       "metadata": {},
       "output_type": "pyout",
       "prompt_number": 1,
       "text": [
        "     Sepal Length  Sepal Width  Petal Length  Petal Width           Class  \\\n",
        "145           6.7          3.0           5.2          2.3  Iris-virginica   \n",
        "146           6.3          2.5           5.0          1.9  Iris-virginica   \n",
        "147           6.5          3.0           5.2          2.0  Iris-virginica   \n",
        "148           6.2          3.4           5.4          2.3  Iris-virginica   \n",
        "149           5.9          3.0           5.1          1.8  Iris-virginica   \n",
        "\n",
        "     Class_label  \n",
        "145          NaN  \n",
        "146          NaN  \n",
        "147          NaN  \n",
        "148          NaN  \n",
        "149          NaN  "
       ]
      }
     ],
     "prompt_number": 1
    },
    {
     "cell_type": "markdown",
     "metadata": {},
     "source": [
      "------------------------------------------------\n",
      "\n",
      "## Some initial data cleanup\n",
      "\n",
      "---------------------------------------------------\n"
     ]
    },
    {
     "cell_type": "code",
     "collapsed": false,
     "input": [
      "# drop null value, add a column with numerical class labels\n",
      "df = df[df.Class.notnull()]\n",
      "df['Class_label'] = df['Class']\n",
      "df.Class_label.replace(['Iris-setosa', 'Iris-versicolor', 'Iris-virginica'],[1,2,3],inplace=True)\n",
      "df.head()"
     ],
     "language": "python",
     "metadata": {},
     "outputs": [
      {
       "html": [
        "<div style=\"max-height:1000px;max-width:1500px;overflow:auto;\">\n",
        "<table border=\"1\" class=\"dataframe\">\n",
        "  <thead>\n",
        "    <tr style=\"text-align: right;\">\n",
        "      <th></th>\n",
        "      <th>Sepal Length</th>\n",
        "      <th>Sepal Width</th>\n",
        "      <th>Petal Length</th>\n",
        "      <th>Petal Width</th>\n",
        "      <th>Class</th>\n",
        "      <th>Class_label</th>\n",
        "    </tr>\n",
        "  </thead>\n",
        "  <tbody>\n",
        "    <tr>\n",
        "      <th>0</th>\n",
        "      <td> 5.1</td>\n",
        "      <td> 3.5</td>\n",
        "      <td> 1.4</td>\n",
        "      <td> 0.2</td>\n",
        "      <td> Iris-setosa</td>\n",
        "      <td> 1</td>\n",
        "    </tr>\n",
        "    <tr>\n",
        "      <th>1</th>\n",
        "      <td> 4.9</td>\n",
        "      <td> 3.0</td>\n",
        "      <td> 1.4</td>\n",
        "      <td> 0.2</td>\n",
        "      <td> Iris-setosa</td>\n",
        "      <td> 1</td>\n",
        "    </tr>\n",
        "    <tr>\n",
        "      <th>2</th>\n",
        "      <td> 4.7</td>\n",
        "      <td> 3.2</td>\n",
        "      <td> 1.3</td>\n",
        "      <td> 0.2</td>\n",
        "      <td> Iris-setosa</td>\n",
        "      <td> 1</td>\n",
        "    </tr>\n",
        "    <tr>\n",
        "      <th>3</th>\n",
        "      <td> 4.6</td>\n",
        "      <td> 3.1</td>\n",
        "      <td> 1.5</td>\n",
        "      <td> 0.2</td>\n",
        "      <td> Iris-setosa</td>\n",
        "      <td> 1</td>\n",
        "    </tr>\n",
        "    <tr>\n",
        "      <th>4</th>\n",
        "      <td> 5.0</td>\n",
        "      <td> 3.6</td>\n",
        "      <td> 1.4</td>\n",
        "      <td> 0.2</td>\n",
        "      <td> Iris-setosa</td>\n",
        "      <td> 1</td>\n",
        "    </tr>\n",
        "  </tbody>\n",
        "</table>\n",
        "</div>"
       ],
       "metadata": {},
       "output_type": "pyout",
       "prompt_number": 2,
       "text": [
        "   Sepal Length  Sepal Width  Petal Length  Petal Width        Class  \\\n",
        "0           5.1          3.5           1.4          0.2  Iris-setosa   \n",
        "1           4.9          3.0           1.4          0.2  Iris-setosa   \n",
        "2           4.7          3.2           1.3          0.2  Iris-setosa   \n",
        "3           4.6          3.1           1.5          0.2  Iris-setosa   \n",
        "4           5.0          3.6           1.4          0.2  Iris-setosa   \n",
        "\n",
        "   Class_label  \n",
        "0            1  \n",
        "1            1  \n",
        "2            1  \n",
        "3            1  \n",
        "4            1  "
       ]
      }
     ],
     "prompt_number": 2
    },
    {
     "cell_type": "markdown",
     "metadata": {},
     "source": [
      "______________________\n",
      "## Calculating Accurary\n",
      "based on http://blog.yhathq.com/posts/classification-using-knn-and-python.html\n",
      "_______________"
     ]
    },
    {
     "cell_type": "code",
     "collapsed": false,
     "input": [
      "#split DF into test/train groups\n",
      "\n",
      "test_idx = np.random.uniform(0, 1, len(df)) <= 0.8\n",
      "train = df[test_idx==True]\n",
      "test = df[test_idx==False]\n",
      "print \"Test set: \", len(test)\n",
      "print \"Train set: \", len(train)\n",
      "print \"Total: \", len(test)+len(train)\n"
     ],
     "language": "python",
     "metadata": {},
     "outputs": [
      {
       "output_type": "stream",
       "stream": "stdout",
       "text": [
        "Test set:  37\n",
        "Train set:  113\n",
        "Total:  150\n"
       ]
      }
     ],
     "prompt_number": 24
    },
    {
     "cell_type": "code",
     "collapsed": false,
     "input": [
      "from sklearn.neighbors import KNeighborsClassifier\n",
      "\n",
      "#loop through a list of possible values for K from 1 to 99 stepping by 2 (odd numbers only)\n",
      "#make predictions about the test set\n",
      "#determine accuracy based on what percentage of those predictions are accurate within the test sample\n",
      "#For each value of K, save the result for plotting later\n",
      "\n",
      "features = ['Sepal Length','Sepal Width', 'Petal Length', 'Petal Width']\n",
      "results = []\n",
      "\n",
      "for n in range(1, 99, 2):\n",
      "    clf = KNeighborsClassifier(n_neighbors=n)\n",
      "    clf.fit(train[features], train['Class_label'])\n",
      "    preds = clf.predict(test[features])\n",
      "    #print \"Predictions: \", preds\n",
      "    #print \"Actual: \\n\", test['Class_label']\n",
      "    #accuracy = clf.score(test[features, test['Class_label']])\n",
      "    accuracy = np.where(preds==test['Class_label'], 1, 0).sum() / float(len(test))\n",
      "    #print \"Neighbors: %d, Accuracy: %3f\" % (n, accuracy)\n",
      " \n",
      "    results.append([n, accuracy])\n",
      " \n",
      "results = pd.DataFrame(results, columns=[\"n\", \"accuracy\"])\n",
      " \n"
     ],
     "language": "python",
     "metadata": {},
     "outputs": [],
     "prompt_number": 25
    },
    {
     "cell_type": "code",
     "collapsed": false,
     "input": [
      "%matplotlib inline\n",
      "import matplotlib.pyplot as plt\n",
      "\n",
      "plt.plot(results.n, results.accuracy)\n",
      "plt.title(\"Accuracy with Increasing K\")\n",
      "\n",
      "#Plotting the result of increasing K below, appears that a low odd number like Some number between 11 and 15 might be best"
     ],
     "language": "python",
     "metadata": {},
     "outputs": [
      {
       "metadata": {},
       "output_type": "pyout",
       "prompt_number": 26,
       "text": [
        "<matplotlib.text.Text at 0x16fbb6d8>"
       ]
      },
      {
       "metadata": {},
       "output_type": "display_data",
       "png": "[encoded data removed]",
       "text": [
        "<matplotlib.figure.Figure at 0x16ed07f0>"
       ]
      }
     ],
     "prompt_number": 26
    }
   ],
   "metadata": {}
  }
 ]
}