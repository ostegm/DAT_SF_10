{
 "metadata": {
  "name": "",
  "signature": "sha256:fb04c4ceb8c213593ae887610f57552a96995128efbd9745acace6d36f624d24"
 },
 "nbformat": 3,
 "nbformat_minor": 0,
 "worksheets": [
  {
   "cells": [
    {
     "cell_type": "markdown",
     "metadata": {},
     "source": [
      "## Stegmaier Otto, HW7\n",
      "#### 22 Nov 14"
     ]
    },
    {
     "cell_type": "markdown",
     "metadata": {},
     "source": [
      "For this assignment we will use the Wine dataset that you can find here:\n",
      "https://archive.ics.uci.edu/ml/datasets/Wine \n",
      " \n",
      "It contains 13 chemical measurements on 178 wines from 3 regions of Italy. The\n",
      "features are named (x1 x2 x3 x4 x5 x6 x7 x8 x9 x10 x11 x12 x13) and the labels are the\n",
      "regions.\n",
      "\n",
      "NOTE: 1st attribute is class identifier (1-3)\n",
      "\n",
      "In a classification context, this is a well posed problem with \"well behaved\" class structures. A good data set for first testing of a new classifier, but not very challenging.\n",
      "\n",
      "\n",
      " "
     ]
    },
    {
     "cell_type": "code",
     "collapsed": false,
     "input": [
      "import pandas as pd\n",
      "import numpy as np\n",
      "\n",
      "%matplotlib inline\n",
      "import matplotlib.pyplot as plt\n",
      "import numpy as np\n",
      "import pylab as pl\n",
      "from sklearn import tree\n",
      "from sklearn.cross_validation import KFold\n",
      "from sklearn.decomposition import PCA\n",
      "from sklearn import linear_model, decomposition, grid_search\n",
      "from sklearn.pipeline import Pipeline"
     ],
     "language": "python",
     "metadata": {},
     "outputs": [],
     "prompt_number": 59
    },
    {
     "cell_type": "code",
     "collapsed": false,
     "input": [
      "pd.set_option('display.max_rows',100)\n",
      "pd.set_option('display.max_columns',60)"
     ],
     "language": "python",
     "metadata": {},
     "outputs": [],
     "prompt_number": 2
    },
    {
     "cell_type": "code",
     "collapsed": false,
     "input": [
      "names = ['Class','Alcohol' ,'Malic_acid', 'Ash' ,'Alcalin' ,'Magn' ,'Phenols' ,'Flava', 'Nonflav', 'Proanth', 'Color' ,'Hue' ,'OD280' ,'Proline'] \n",
      "df = pd.read_csv('wine.csv',names = names)"
     ],
     "language": "python",
     "metadata": {},
     "outputs": [],
     "prompt_number": 3
    },
    {
     "cell_type": "code",
     "collapsed": false,
     "input": [
      "df.head()"
     ],
     "language": "python",
     "metadata": {},
     "outputs": [
      {
       "html": [
        "<div style=\"max-height:1000px;max-width:1500px;overflow:auto;\">\n",
        "<table border=\"1\" class=\"dataframe\">\n",
        "  <thead>\n",
        "    <tr style=\"text-align: right;\">\n",
        "      <th></th>\n",
        "      <th>Class</th>\n",
        "      <th>Alcohol</th>\n",
        "      <th>Malic_acid</th>\n",
        "      <th>Ash</th>\n",
        "      <th>Alcalin</th>\n",
        "      <th>Magn</th>\n",
        "      <th>Phenols</th>\n",
        "      <th>Flava</th>\n",
        "      <th>Nonflav</th>\n",
        "      <th>Proanth</th>\n",
        "      <th>Color</th>\n",
        "      <th>Hue</th>\n",
        "      <th>OD280</th>\n",
        "      <th>Proline</th>\n",
        "    </tr>\n",
        "  </thead>\n",
        "  <tbody>\n",
        "    <tr>\n",
        "      <th>0</th>\n",
        "      <td> 1</td>\n",
        "      <td> 14.23</td>\n",
        "      <td> 1.71</td>\n",
        "      <td> 2.43</td>\n",
        "      <td> 15.6</td>\n",
        "      <td> 127</td>\n",
        "      <td> 2.80</td>\n",
        "      <td> 3.06</td>\n",
        "      <td> 0.28</td>\n",
        "      <td> 2.29</td>\n",
        "      <td> 5.64</td>\n",
        "      <td> 1.04</td>\n",
        "      <td> 3.92</td>\n",
        "      <td> 1065</td>\n",
        "    </tr>\n",
        "    <tr>\n",
        "      <th>1</th>\n",
        "      <td> 1</td>\n",
        "      <td> 13.20</td>\n",
        "      <td> 1.78</td>\n",
        "      <td> 2.14</td>\n",
        "      <td> 11.2</td>\n",
        "      <td> 100</td>\n",
        "      <td> 2.65</td>\n",
        "      <td> 2.76</td>\n",
        "      <td> 0.26</td>\n",
        "      <td> 1.28</td>\n",
        "      <td> 4.38</td>\n",
        "      <td> 1.05</td>\n",
        "      <td> 3.40</td>\n",
        "      <td> 1050</td>\n",
        "    </tr>\n",
        "    <tr>\n",
        "      <th>2</th>\n",
        "      <td> 1</td>\n",
        "      <td> 13.16</td>\n",
        "      <td> 2.36</td>\n",
        "      <td> 2.67</td>\n",
        "      <td> 18.6</td>\n",
        "      <td> 101</td>\n",
        "      <td> 2.80</td>\n",
        "      <td> 3.24</td>\n",
        "      <td> 0.30</td>\n",
        "      <td> 2.81</td>\n",
        "      <td> 5.68</td>\n",
        "      <td> 1.03</td>\n",
        "      <td> 3.17</td>\n",
        "      <td> 1185</td>\n",
        "    </tr>\n",
        "    <tr>\n",
        "      <th>3</th>\n",
        "      <td> 1</td>\n",
        "      <td> 14.37</td>\n",
        "      <td> 1.95</td>\n",
        "      <td> 2.50</td>\n",
        "      <td> 16.8</td>\n",
        "      <td> 113</td>\n",
        "      <td> 3.85</td>\n",
        "      <td> 3.49</td>\n",
        "      <td> 0.24</td>\n",
        "      <td> 2.18</td>\n",
        "      <td> 7.80</td>\n",
        "      <td> 0.86</td>\n",
        "      <td> 3.45</td>\n",
        "      <td> 1480</td>\n",
        "    </tr>\n",
        "    <tr>\n",
        "      <th>4</th>\n",
        "      <td> 1</td>\n",
        "      <td> 13.24</td>\n",
        "      <td> 2.59</td>\n",
        "      <td> 2.87</td>\n",
        "      <td> 21.0</td>\n",
        "      <td> 118</td>\n",
        "      <td> 2.80</td>\n",
        "      <td> 2.69</td>\n",
        "      <td> 0.39</td>\n",
        "      <td> 1.82</td>\n",
        "      <td> 4.32</td>\n",
        "      <td> 1.04</td>\n",
        "      <td> 2.93</td>\n",
        "      <td>  735</td>\n",
        "    </tr>\n",
        "  </tbody>\n",
        "</table>\n",
        "</div>"
       ],
       "metadata": {},
       "output_type": "pyout",
       "prompt_number": 4,
       "text": [
        "   Class  Alcohol  Malic_acid   Ash  Alcalin  Magn  Phenols  Flava  Nonflav  \\\n",
        "0      1    14.23        1.71  2.43     15.6   127     2.80   3.06     0.28   \n",
        "1      1    13.20        1.78  2.14     11.2   100     2.65   2.76     0.26   \n",
        "2      1    13.16        2.36  2.67     18.6   101     2.80   3.24     0.30   \n",
        "3      1    14.37        1.95  2.50     16.8   113     3.85   3.49     0.24   \n",
        "4      1    13.24        2.59  2.87     21.0   118     2.80   2.69     0.39   \n",
        "\n",
        "   Proanth  Color   Hue  OD280  Proline  \n",
        "0     2.29   5.64  1.04   3.92     1065  \n",
        "1     1.28   4.38  1.05   3.40     1050  \n",
        "2     2.81   5.68  1.03   3.17     1185  \n",
        "3     2.18   7.80  0.86   3.45     1480  \n",
        "4     1.82   4.32  1.04   2.93      735  "
       ]
      }
     ],
     "prompt_number": 4
    },
    {
     "cell_type": "markdown",
     "metadata": {},
     "source": [
      "####1. Classify the raw data using a linear SVM. \n",
      "Do you need to perform several binary classifications or does scikit-learn support multi-class classification with SVMs? "
     ]
    },
    {
     "cell_type": "code",
     "collapsed": false,
     "input": [
      "from sklearn import svm\n",
      "clf = svm.LinearSVC()\n",
      "model = clf.fit"
     ],
     "language": "python",
     "metadata": {},
     "outputs": [],
     "prompt_number": 20
    },
    {
     "cell_type": "code",
     "collapsed": false,
     "input": [
      "X = df.drop('Class',axis=1).values\n",
      "y = df.Class.values"
     ],
     "language": "python",
     "metadata": {},
     "outputs": [],
     "prompt_number": 21
    },
    {
     "cell_type": "code",
     "collapsed": false,
     "input": [
      "model = clf.fit(X,y)"
     ],
     "language": "python",
     "metadata": {},
     "outputs": [],
     "prompt_number": 22
    },
    {
     "cell_type": "code",
     "collapsed": false,
     "input": [
      "model.score(X,y)"
     ],
     "language": "python",
     "metadata": {},
     "outputs": [
      {
       "metadata": {},
       "output_type": "pyout",
       "prompt_number": 23,
       "text": [
        "0.797752808988764"
       ]
      }
     ],
     "prompt_number": 23
    },
    {
     "cell_type": "code",
     "collapsed": false,
     "input": [
      "results = model.predict(X)\n",
      "pd.crosstab(y, results)"
     ],
     "language": "python",
     "metadata": {},
     "outputs": [
      {
       "html": [
        "<div style=\"max-height:1000px;max-width:1500px;overflow:auto;\">\n",
        "<table border=\"1\" class=\"dataframe\">\n",
        "  <thead>\n",
        "    <tr style=\"text-align: right;\">\n",
        "      <th>col_0</th>\n",
        "      <th>1</th>\n",
        "      <th>2</th>\n",
        "      <th>3</th>\n",
        "    </tr>\n",
        "    <tr>\n",
        "      <th>row_0</th>\n",
        "      <th></th>\n",
        "      <th></th>\n",
        "      <th></th>\n",
        "    </tr>\n",
        "  </thead>\n",
        "  <tbody>\n",
        "    <tr>\n",
        "      <th>1</th>\n",
        "      <td> 41</td>\n",
        "      <td> 18</td>\n",
        "      <td>  0</td>\n",
        "    </tr>\n",
        "    <tr>\n",
        "      <th>2</th>\n",
        "      <td>  0</td>\n",
        "      <td> 71</td>\n",
        "      <td>  0</td>\n",
        "    </tr>\n",
        "    <tr>\n",
        "      <th>3</th>\n",
        "      <td>  0</td>\n",
        "      <td> 18</td>\n",
        "      <td> 30</td>\n",
        "    </tr>\n",
        "  </tbody>\n",
        "</table>\n",
        "</div>"
       ],
       "metadata": {},
       "output_type": "pyout",
       "prompt_number": 24,
       "text": [
        "col_0   1   2   3\n",
        "row_0            \n",
        "1      41  18   0\n",
        "2       0  71   0\n",
        "3       0  18  30"
       ]
      }
     ],
     "prompt_number": 24
    },
    {
     "cell_type": "markdown",
     "metadata": {},
     "source": [
      "####2. Cross validate the result"
     ]
    },
    {
     "cell_type": "code",
     "collapsed": false,
     "input": [
      "from sklearn.cross_validation import KFold\n",
      "\n",
      "def cross_validate(X, y, classifier, k_fold) :\n",
      "\n",
      "    # derive a set of (random) training and testing indices\n",
      "    k_fold_indices = KFold(len(X), n_folds=k_fold,\n",
      "                           shuffle=True, random_state=0)\n",
      "\n",
      "    k_score_total = 0\n",
      "    # for each training and testing slices run the classifier, and score the results\n",
      "    for train_slice, test_slice in k_fold_indices :\n",
      "\n",
      "        model = classifier(X[ train_slice  ],\n",
      "                         y[ train_slice  ])\n",
      "\n",
      "        k_score = model.score(X[ test_slice ],\n",
      "                              y[ test_slice ])\n",
      "\n",
      "        k_score_total += k_score\n",
      "\n",
      "    # return the average accuracy\n",
      "    return k_score_total/k_fold"
     ],
     "language": "python",
     "metadata": {},
     "outputs": [],
     "prompt_number": 33
    },
    {
     "cell_type": "code",
     "collapsed": false,
     "input": [
      "model = clf.fit\n",
      "cross_validate(X, y, model,15)"
     ],
     "language": "python",
     "metadata": {},
     "outputs": [
      {
       "metadata": {},
       "output_type": "pyout",
       "prompt_number": 37,
       "text": [
        "0.89242424242424234"
       ]
      }
     ],
     "prompt_number": 37
    },
    {
     "cell_type": "markdown",
     "metadata": {},
     "source": [
      "####4. Preprocess the data with a normalization step\n",
      "using the tools explained at http://scikit-learn.org/stable/modules/preprocessing.html#standardizatmean-removal-and-variance-scaling "
     ]
    },
    {
     "cell_type": "code",
     "collapsed": false,
     "input": [
      "from sklearn import preprocessing"
     ],
     "language": "python",
     "metadata": {},
     "outputs": [],
     "prompt_number": 38
    },
    {
     "cell_type": "code",
     "collapsed": false,
     "input": [
      "X = df.drop('Class',axis=1).values\n",
      "X_norm = preprocessing.normalize(X)"
     ],
     "language": "python",
     "metadata": {},
     "outputs": [],
     "prompt_number": 39
    },
    {
     "cell_type": "code",
     "collapsed": false,
     "input": [
      "names = ['Alcohol' ,'Malic_acid', 'Ash' ,'Alcalin' ,'Magn' ,'Phenols' ,'Flava', 'Nonflav', 'Proanth', 'Color' ,'Hue' ,'OD280' ,'Proline'] \n",
      "df_norm = pd.DataFrame(X_norm)\n",
      "df_norm.columns = names\n",
      "df_norm['Class'] = df['Class'].values"
     ],
     "language": "python",
     "metadata": {},
     "outputs": [],
     "prompt_number": 40
    },
    {
     "cell_type": "code",
     "collapsed": false,
     "input": [
      "df_norm.head()"
     ],
     "language": "python",
     "metadata": {},
     "outputs": [
      {
       "html": [
        "<div style=\"max-height:1000px;max-width:1500px;overflow:auto;\">\n",
        "<table border=\"1\" class=\"dataframe\">\n",
        "  <thead>\n",
        "    <tr style=\"text-align: right;\">\n",
        "      <th></th>\n",
        "      <th>Alcohol</th>\n",
        "      <th>Malic_acid</th>\n",
        "      <th>Ash</th>\n",
        "      <th>Alcalin</th>\n",
        "      <th>Magn</th>\n",
        "      <th>Phenols</th>\n",
        "      <th>Flava</th>\n",
        "      <th>Nonflav</th>\n",
        "      <th>Proanth</th>\n",
        "      <th>Color</th>\n",
        "      <th>Hue</th>\n",
        "      <th>OD280</th>\n",
        "      <th>Proline</th>\n",
        "      <th>Class</th>\n",
        "    </tr>\n",
        "  </thead>\n",
        "  <tbody>\n",
        "    <tr>\n",
        "      <th>0</th>\n",
        "      <td> 0.013264</td>\n",
        "      <td> 0.001594</td>\n",
        "      <td> 0.002265</td>\n",
        "      <td> 0.014542</td>\n",
        "      <td> 0.118383</td>\n",
        "      <td> 0.002610</td>\n",
        "      <td> 0.002852</td>\n",
        "      <td> 0.000261</td>\n",
        "      <td> 0.002135</td>\n",
        "      <td> 0.005257</td>\n",
        "      <td> 0.000969</td>\n",
        "      <td> 0.003654</td>\n",
        "      <td> 0.992738</td>\n",
        "      <td> 1</td>\n",
        "    </tr>\n",
        "    <tr>\n",
        "      <th>1</th>\n",
        "      <td> 0.012513</td>\n",
        "      <td> 0.001687</td>\n",
        "      <td> 0.002029</td>\n",
        "      <td> 0.010617</td>\n",
        "      <td> 0.094794</td>\n",
        "      <td> 0.002512</td>\n",
        "      <td> 0.002616</td>\n",
        "      <td> 0.000246</td>\n",
        "      <td> 0.001213</td>\n",
        "      <td> 0.004152</td>\n",
        "      <td> 0.000995</td>\n",
        "      <td> 0.003223</td>\n",
        "      <td> 0.995336</td>\n",
        "      <td> 1</td>\n",
        "    </tr>\n",
        "    <tr>\n",
        "      <th>2</th>\n",
        "      <td> 0.011063</td>\n",
        "      <td> 0.001984</td>\n",
        "      <td> 0.002245</td>\n",
        "      <td> 0.015636</td>\n",
        "      <td> 0.084906</td>\n",
        "      <td> 0.002354</td>\n",
        "      <td> 0.002724</td>\n",
        "      <td> 0.000252</td>\n",
        "      <td> 0.002362</td>\n",
        "      <td> 0.004775</td>\n",
        "      <td> 0.000866</td>\n",
        "      <td> 0.002665</td>\n",
        "      <td> 0.996176</td>\n",
        "      <td> 1</td>\n",
        "    </tr>\n",
        "    <tr>\n",
        "      <th>3</th>\n",
        "      <td> 0.009680</td>\n",
        "      <td> 0.001314</td>\n",
        "      <td> 0.001684</td>\n",
        "      <td> 0.011317</td>\n",
        "      <td> 0.076119</td>\n",
        "      <td> 0.002593</td>\n",
        "      <td> 0.002351</td>\n",
        "      <td> 0.000162</td>\n",
        "      <td> 0.001468</td>\n",
        "      <td> 0.005254</td>\n",
        "      <td> 0.000579</td>\n",
        "      <td> 0.002324</td>\n",
        "      <td> 0.996961</td>\n",
        "      <td> 1</td>\n",
        "    </tr>\n",
        "    <tr>\n",
        "      <th>4</th>\n",
        "      <td> 0.017775</td>\n",
        "      <td> 0.003477</td>\n",
        "      <td> 0.003853</td>\n",
        "      <td> 0.028193</td>\n",
        "      <td> 0.158418</td>\n",
        "      <td> 0.003759</td>\n",
        "      <td> 0.003611</td>\n",
        "      <td> 0.000524</td>\n",
        "      <td> 0.002443</td>\n",
        "      <td> 0.005800</td>\n",
        "      <td> 0.001396</td>\n",
        "      <td> 0.003934</td>\n",
        "      <td> 0.986753</td>\n",
        "      <td> 1</td>\n",
        "    </tr>\n",
        "  </tbody>\n",
        "</table>\n",
        "</div>"
       ],
       "metadata": {},
       "output_type": "pyout",
       "prompt_number": 41,
       "text": [
        "    Alcohol  Malic_acid       Ash   Alcalin      Magn   Phenols     Flava  \\\n",
        "0  0.013264    0.001594  0.002265  0.014542  0.118383  0.002610  0.002852   \n",
        "1  0.012513    0.001687  0.002029  0.010617  0.094794  0.002512  0.002616   \n",
        "2  0.011063    0.001984  0.002245  0.015636  0.084906  0.002354  0.002724   \n",
        "3  0.009680    0.001314  0.001684  0.011317  0.076119  0.002593  0.002351   \n",
        "4  0.017775    0.003477  0.003853  0.028193  0.158418  0.003759  0.003611   \n",
        "\n",
        "    Nonflav   Proanth     Color       Hue     OD280   Proline  Class  \n",
        "0  0.000261  0.002135  0.005257  0.000969  0.003654  0.992738      1  \n",
        "1  0.000246  0.001213  0.004152  0.000995  0.003223  0.995336      1  \n",
        "2  0.000252  0.002362  0.004775  0.000866  0.002665  0.996176      1  \n",
        "3  0.000162  0.001468  0.005254  0.000579  0.002324  0.996961      1  \n",
        "4  0.000524  0.002443  0.005800  0.001396  0.003934  0.986753      1  "
       ]
      }
     ],
     "prompt_number": 41
    },
    {
     "cell_type": "markdown",
     "metadata": {},
     "source": [
      "####4. Repeat the classification performed in step 1 using a linear SVM and\n",
      "crossvalidate the result. Is it better or worse? "
     ]
    },
    {
     "cell_type": "code",
     "collapsed": false,
     "input": [
      "X2 = df_norm.drop('Class',axis=1).values\n",
      "y2 = df_norm['Class'].values"
     ],
     "language": "python",
     "metadata": {},
     "outputs": [],
     "prompt_number": 42
    },
    {
     "cell_type": "code",
     "collapsed": false,
     "input": [
      "clf = svm.LinearSVC()\n",
      "model = clf.fit\n",
      "cross_validate(X2, y2, model,10)"
     ],
     "language": "python",
     "metadata": {},
     "outputs": [
      {
       "metadata": {},
       "output_type": "pyout",
       "prompt_number": 43,
       "text": [
        "0.6333333333333333"
       ]
      }
     ],
     "prompt_number": 43
    },
    {
     "cell_type": "markdown",
     "metadata": {},
     "source": [
      "####5. Learn about pipelines here:\n",
      "http://scikit-learn.org/stable/modules/pipeline.html \n",
      "implement and run the pipeline on the raw data (not normalized) the pipeline should comprises: \n",
      "- a preprocessing step\n",
      "- a classification step"
     ]
    },
    {
     "cell_type": "code",
     "collapsed": false,
     "input": [
      "from sklearn.feature_selection import SelectKBest, f_regression\n",
      "from sklearn.pipeline import make_pipeline\n",
      "SVC = svm.LinearSVC()\n",
      "anova_filter = SelectKBest(f_regression, k=3)\n",
      "pipe = make_pipeline(anova_filter, SVC)"
     ],
     "language": "python",
     "metadata": {},
     "outputs": [],
     "prompt_number": 144
    },
    {
     "cell_type": "code",
     "collapsed": false,
     "input": [
      "X = df.drop('Class',axis=1).values\n",
      "y = df.Class.values"
     ],
     "language": "python",
     "metadata": {},
     "outputs": [],
     "prompt_number": 145
    },
    {
     "cell_type": "code",
     "collapsed": false,
     "input": [
      "from sklearn.cross_validation import train_test_split\n",
      "X_train, X_test, Y_train, Y_test = train_test_split(X,y, train_size=0.5, random_state = False)"
     ],
     "language": "python",
     "metadata": {},
     "outputs": [],
     "prompt_number": 146
    },
    {
     "cell_type": "code",
     "collapsed": false,
     "input": [
      "pipe.fit(X_train,Y_train)"
     ],
     "language": "python",
     "metadata": {},
     "outputs": [
      {
       "metadata": {},
       "output_type": "pyout",
       "prompt_number": 147,
       "text": [
        "Pipeline(steps=[('selectkbest', SelectKBest(k=3, score_func=<function f_regression at 0x000000000C44A828>)), ('linearsvc', LinearSVC(C=1.0, class_weight=None, dual=True, fit_intercept=True,\n",
        "     intercept_scaling=1, loss='l2', multi_class='ovr', penalty='l2',\n",
        "     random_state=None, tol=0.0001, verbose=0))])"
       ]
      }
     ],
     "prompt_number": 147
    },
    {
     "cell_type": "code",
     "collapsed": false,
     "input": [
      "results = pipe.predict(X_test)"
     ],
     "language": "python",
     "metadata": {},
     "outputs": [],
     "prompt_number": 148
    },
    {
     "cell_type": "code",
     "collapsed": false,
     "input": [
      "pipe.score(X_train, Y_train)"
     ],
     "language": "python",
     "metadata": {},
     "outputs": [
      {
       "metadata": {},
       "output_type": "pyout",
       "prompt_number": 149,
       "text": [
        "0.8651685393258427"
       ]
      }
     ],
     "prompt_number": 149
    },
    {
     "cell_type": "code",
     "collapsed": false,
     "input": [
      "pipe.score(X_test,Y_test)"
     ],
     "language": "python",
     "metadata": {},
     "outputs": [
      {
       "metadata": {},
       "output_type": "pyout",
       "prompt_number": 150,
       "text": [
        "0.7303370786516854"
       ]
      }
     ],
     "prompt_number": 150
    },
    {
     "cell_type": "code",
     "collapsed": false,
     "input": [
      "pd.crosstab(results,Y_test)"
     ],
     "language": "python",
     "metadata": {},
     "outputs": [
      {
       "html": [
        "<div style=\"max-height:1000px;max-width:1500px;overflow:auto;\">\n",
        "<table border=\"1\" class=\"dataframe\">\n",
        "  <thead>\n",
        "    <tr style=\"text-align: right;\">\n",
        "      <th>col_0</th>\n",
        "      <th>1</th>\n",
        "      <th>2</th>\n",
        "      <th>3</th>\n",
        "    </tr>\n",
        "    <tr>\n",
        "      <th>row_0</th>\n",
        "      <th></th>\n",
        "      <th></th>\n",
        "      <th></th>\n",
        "    </tr>\n",
        "  </thead>\n",
        "  <tbody>\n",
        "    <tr>\n",
        "      <th>1</th>\n",
        "      <td> 23</td>\n",
        "      <td> 16</td>\n",
        "      <td>  0</td>\n",
        "    </tr>\n",
        "    <tr>\n",
        "      <th>2</th>\n",
        "      <td>  2</td>\n",
        "      <td> 17</td>\n",
        "      <td>  0</td>\n",
        "    </tr>\n",
        "    <tr>\n",
        "      <th>3</th>\n",
        "      <td>  0</td>\n",
        "      <td>  7</td>\n",
        "      <td> 24</td>\n",
        "    </tr>\n",
        "  </tbody>\n",
        "</table>\n",
        "</div>"
       ],
       "metadata": {},
       "output_type": "pyout",
       "prompt_number": 143,
       "text": [
        "col_0   1   2   3\n",
        "row_0            \n",
        "1      23  16   0\n",
        "2       2  17   0\n",
        "3       0   7  24"
       ]
      }
     ],
     "prompt_number": 143
    },
    {
     "cell_type": "markdown",
     "metadata": {},
     "source": [
      "####6. Try varying the value of C or the type of kernel. Do you get better result7. Learn about grid search here: \n",
      "http://scikit-learn.org/stable/modules/grid_search.html\n",
      "and feed your pipeline classifier to the grid search. Explore a range of valfor C, gamma and the type of kernel. Can you find an optimum value? "
     ]
    },
    {
     "cell_type": "code",
     "collapsed": false,
     "input": [
      "estimator = svm.LinearSVC()\n",
      "\n",
      "X = df.drop('Class',axis=1).values\n",
      "y = df.Class.values\n",
      "\n",
      "from sklearn.cross_validation import train_test_split\n",
      "X_train, X_test, Y_train, Y_test = train_test_split(X,y, train_size=0.5, random_state = False)"
     ],
     "language": "python",
     "metadata": {},
     "outputs": [],
     "prompt_number": 151
    },
    {
     "cell_type": "code",
     "collapsed": false,
     "input": [
      "from sklearn.grid_search import GridSearchCV\n",
      "parameters = {'kernel':('linear', 'rbf'), 'C':[1, 10,100]}\n",
      "svr = svm.SVC()\n",
      "clf = grid_search.GridSearchCV(svr, parameters)"
     ],
     "language": "python",
     "metadata": {},
     "outputs": [],
     "prompt_number": 177
    },
    {
     "cell_type": "code",
     "collapsed": false,
     "input": [],
     "language": "python",
     "metadata": {},
     "outputs": [],
     "prompt_number": 177
    },
    {
     "cell_type": "code",
     "collapsed": false,
     "input": [
      "clf.fit(X_train,Y_train)"
     ],
     "language": "python",
     "metadata": {},
     "outputs": [
      {
       "metadata": {},
       "output_type": "pyout",
       "prompt_number": 178,
       "text": [
        "GridSearchCV(cv=None,\n",
        "       estimator=SVC(C=1.0, cache_size=200, class_weight=None, coef0=0.0, degree=3, gamma=0.0,\n",
        "  kernel='rbf', max_iter=-1, probability=False, random_state=None,\n",
        "  shrinking=True, tol=0.001, verbose=False),\n",
        "       fit_params={}, iid=True, loss_func=None, n_jobs=1,\n",
        "       param_grid={'kernel': ('linear', 'rbf'), 'C': [1, 10, 100]},\n",
        "       pre_dispatch='2*n_jobs', refit=True, score_func=None, scoring=None,\n",
        "       verbose=0)"
       ]
      }
     ],
     "prompt_number": 178
    },
    {
     "cell_type": "code",
     "collapsed": false,
     "input": [
      "clf.score(X_train,Y_train)"
     ],
     "language": "python",
     "metadata": {},
     "outputs": [
      {
       "metadata": {},
       "output_type": "pyout",
       "prompt_number": 181,
       "text": [
        "1.0"
       ]
      }
     ],
     "prompt_number": 181
    },
    {
     "cell_type": "code",
     "collapsed": false,
     "input": [
      "clf.score(X_test,Y_test)"
     ],
     "language": "python",
     "metadata": {},
     "outputs": [
      {
       "metadata": {},
       "output_type": "pyout",
       "prompt_number": 182,
       "text": [
        "0.9213483146067416"
       ]
      }
     ],
     "prompt_number": 182
    },
    {
     "cell_type": "code",
     "collapsed": false,
     "input": [
      "results = clf.predict(X_test)"
     ],
     "language": "python",
     "metadata": {},
     "outputs": [],
     "prompt_number": 183
    },
    {
     "cell_type": "code",
     "collapsed": false,
     "input": [
      "pd.crosstab(results,Y_test)"
     ],
     "language": "python",
     "metadata": {},
     "outputs": [
      {
       "html": [
        "<div style=\"max-height:1000px;max-width:1500px;overflow:auto;\">\n",
        "<table border=\"1\" class=\"dataframe\">\n",
        "  <thead>\n",
        "    <tr style=\"text-align: right;\">\n",
        "      <th>col_0</th>\n",
        "      <th>1</th>\n",
        "      <th>2</th>\n",
        "      <th>3</th>\n",
        "    </tr>\n",
        "    <tr>\n",
        "      <th>row_0</th>\n",
        "      <th></th>\n",
        "      <th></th>\n",
        "      <th></th>\n",
        "    </tr>\n",
        "  </thead>\n",
        "  <tbody>\n",
        "    <tr>\n",
        "      <th>1</th>\n",
        "      <td> 25</td>\n",
        "      <td>  3</td>\n",
        "      <td>  1</td>\n",
        "    </tr>\n",
        "    <tr>\n",
        "      <th>2</th>\n",
        "      <td>  0</td>\n",
        "      <td> 34</td>\n",
        "      <td>  0</td>\n",
        "    </tr>\n",
        "    <tr>\n",
        "      <th>3</th>\n",
        "      <td>  0</td>\n",
        "      <td>  3</td>\n",
        "      <td> 23</td>\n",
        "    </tr>\n",
        "  </tbody>\n",
        "</table>\n",
        "</div>"
       ],
       "metadata": {},
       "output_type": "pyout",
       "prompt_number": 184,
       "text": [
        "col_0   1   2   3\n",
        "row_0            \n",
        "1      25   3   1\n",
        "2       0  34   0\n",
        "3       0   3  23"
       ]
      }
     ],
     "prompt_number": 184
    },
    {
     "cell_type": "code",
     "collapsed": false,
     "input": [],
     "language": "python",
     "metadata": {},
     "outputs": []
    }
   ],
   "metadata": {}
  }
 ]
}