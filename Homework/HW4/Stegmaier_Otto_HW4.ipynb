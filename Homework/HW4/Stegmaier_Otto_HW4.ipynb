{
 "metadata": {
  "name": "",
  "signature": "sha256:0091f64c2dd6fdd84ffa1231ea7fc50b83069bffb89a19fbf14dc7ae814dc69c"
 },
 "nbformat": 3,
 "nbformat_minor": 0,
 "worksheets": [
  {
   "cells": [
    {
     "cell_type": "markdown",
     "metadata": {},
     "source": [
      "## Stegmaier, Otto HW4\n",
      "11/1/14\n",
      "\n"
     ]
    },
    {
     "cell_type": "markdown",
     "metadata": {},
     "source": [
      "For this assignment, we will use the Olivetti faces dataset that we saw in the lecture.\n",
      "This is a very well known dataset in the machine learning world and can be obtained\n",
      "here: \n",
      "http://scikit-learn.org/stable/datasets/olivetti_faces.html#olivetti-faces  \n",
      " "
     ]
    },
    {
     "cell_type": "code",
     "collapsed": false,
     "input": [
      "import numpy as np\n",
      "import matplotlib.pyplot as plt\n",
      "import pandas as pd\n",
      "import pylab as pl\n",
      "%matplotlib inline"
     ],
     "language": "python",
     "metadata": {},
     "outputs": [],
     "prompt_number": 1
    },
    {
     "cell_type": "code",
     "collapsed": false,
     "input": [
      "from sklearn import datasets\n",
      "\n",
      "faces = datasets.fetch_olivetti_faces()\n",
      "\n",
      "faces.keys()"
     ],
     "language": "python",
     "metadata": {},
     "outputs": [
      {
       "metadata": {},
       "output_type": "pyout",
       "prompt_number": 2,
       "text": [
        "['images', 'data', 'target', 'DESCR']"
       ]
      }
     ],
     "prompt_number": 2
    },
    {
     "cell_type": "code",
     "collapsed": false,
     "input": [
      "print faces['DESCR']"
     ],
     "language": "python",
     "metadata": {},
     "outputs": [
      {
       "output_type": "stream",
       "stream": "stdout",
       "text": [
        "Modified Olivetti faces dataset.\n",
        "\n",
        "The original database was available from (now defunct)\n",
        "\n",
        "    http://www.uk.research.att.com/facedatabase.html\n",
        "\n",
        "The version retrieved here comes in MATLAB format from the personal\n",
        "web page of Sam Roweis:\n",
        "\n",
        "    http://www.cs.nyu.edu/~roweis/\n",
        "\n",
        "There are ten different images of each of 40 distinct subjects. For some\n",
        "subjects, the images were taken at different times, varying the lighting,\n",
        "facial expressions (open / closed eyes, smiling / not smiling) and facial\n",
        "details (glasses / no glasses). All the images were taken against a dark\n",
        "homogeneous background with the subjects in an upright, frontal position (with\n",
        "tolerance for some side movement).\n",
        "\n",
        "The original dataset consisted of 92 x 112, while the Roweis version\n",
        "consists of 64x64 images.\n",
        "\n"
       ]
      }
     ],
     "prompt_number": 3
    },
    {
     "cell_type": "code",
     "collapsed": false,
     "input": [],
     "language": "python",
     "metadata": {},
     "outputs": [],
     "prompt_number": 21
    },
    {
     "cell_type": "code",
     "collapsed": false,
     "input": [
      "X = faces['data']\n",
      "images = faces['images']\n",
      "y = faces['target']"
     ],
     "language": "python",
     "metadata": {},
     "outputs": [],
     "prompt_number": 4
    },
    {
     "cell_type": "code",
     "collapsed": false,
     "input": [
      "y\n"
     ],
     "language": "python",
     "metadata": {},
     "outputs": [
      {
       "metadata": {},
       "output_type": "pyout",
       "prompt_number": 5,
       "text": [
        "array([ 0,  0,  0,  0,  0,  0,  0,  0,  0,  0,  1,  1,  1,  1,  1,  1,  1,\n",
        "        1,  1,  1,  2,  2,  2,  2,  2,  2,  2,  2,  2,  2,  3,  3,  3,  3,\n",
        "        3,  3,  3,  3,  3,  3,  4,  4,  4,  4,  4,  4,  4,  4,  4,  4,  5,\n",
        "        5,  5,  5,  5,  5,  5,  5,  5,  5,  6,  6,  6,  6,  6,  6,  6,  6,\n",
        "        6,  6,  7,  7,  7,  7,  7,  7,  7,  7,  7,  7,  8,  8,  8,  8,  8,\n",
        "        8,  8,  8,  8,  8,  9,  9,  9,  9,  9,  9,  9,  9,  9,  9, 10, 10,\n",
        "       10, 10, 10, 10, 10, 10, 10, 10, 11, 11, 11, 11, 11, 11, 11, 11, 11,\n",
        "       11, 12, 12, 12, 12, 12, 12, 12, 12, 12, 12, 13, 13, 13, 13, 13, 13,\n",
        "       13, 13, 13, 13, 14, 14, 14, 14, 14, 14, 14, 14, 14, 14, 15, 15, 15,\n",
        "       15, 15, 15, 15, 15, 15, 15, 16, 16, 16, 16, 16, 16, 16, 16, 16, 16,\n",
        "       17, 17, 17, 17, 17, 17, 17, 17, 17, 17, 18, 18, 18, 18, 18, 18, 18,\n",
        "       18, 18, 18, 19, 19, 19, 19, 19, 19, 19, 19, 19, 19, 20, 20, 20, 20,\n",
        "       20, 20, 20, 20, 20, 20, 21, 21, 21, 21, 21, 21, 21, 21, 21, 21, 22,\n",
        "       22, 22, 22, 22, 22, 22, 22, 22, 22, 23, 23, 23, 23, 23, 23, 23, 23,\n",
        "       23, 23, 24, 24, 24, 24, 24, 24, 24, 24, 24, 24, 25, 25, 25, 25, 25,\n",
        "       25, 25, 25, 25, 25, 26, 26, 26, 26, 26, 26, 26, 26, 26, 26, 27, 27,\n",
        "       27, 27, 27, 27, 27, 27, 27, 27, 28, 28, 28, 28, 28, 28, 28, 28, 28,\n",
        "       28, 29, 29, 29, 29, 29, 29, 29, 29, 29, 29, 30, 30, 30, 30, 30, 30,\n",
        "       30, 30, 30, 30, 31, 31, 31, 31, 31, 31, 31, 31, 31, 31, 32, 32, 32,\n",
        "       32, 32, 32, 32, 32, 32, 32, 33, 33, 33, 33, 33, 33, 33, 33, 33, 33,\n",
        "       34, 34, 34, 34, 34, 34, 34, 34, 34, 34, 35, 35, 35, 35, 35, 35, 35,\n",
        "       35, 35, 35, 36, 36, 36, 36, 36, 36, 36, 36, 36, 36, 37, 37, 37, 37,\n",
        "       37, 37, 37, 37, 37, 37, 38, 38, 38, 38, 38, 38, 38, 38, 38, 38, 39,\n",
        "       39, 39, 39, 39, 39, 39, 39, 39, 39])"
       ]
      }
     ],
     "prompt_number": 5
    },
    {
     "cell_type": "markdown",
     "metadata": {},
     "source": [
      "_______________\n",
      "\n",
      "## 1) Implement PCA on the dataset, using the sklearn. \n",
      "What do the principal components tell? (is scaling necessary?)\n",
      " "
     ]
    },
    {
     "cell_type": "code",
     "collapsed": false,
     "input": [
      "from sklearn.decomposition import PCA, RandomizedPCA\n",
      "from sklearn import preprocessing"
     ],
     "language": "python",
     "metadata": {},
     "outputs": [],
     "prompt_number": 37
    },
    {
     "cell_type": "code",
     "collapsed": false,
     "input": [
      "def pca_analysis(X,N):\n",
      "    #input an array style data set\n",
      "    #number of components to analyze\n",
      "    n = N\n",
      "    comp_id=[]\n",
      "    for i in range(1,n+1):\n",
      "        comp_id.append(i)      #id number of each component\n",
      "    pca = PCA(n_components = n)\n",
      "    X_r = pca.fit(X).transform(X)\n",
      "    \n",
      "    \n",
      "    ratios = pca.explained_variance_ratio_\n",
      "    print \"\\n\"\n",
      "    print \"Ratios of Variance Explained: \", ratios\n",
      "    sum_ratios = pca.explained_variance_ratio_.sum()\n",
      "    print \"\\n\"\n",
      "    print \"Total Variance Explained: \", sum_ratios\n",
      "    \n",
      "    #Scree Plot\n",
      "    fig = plt.figure(figsize=(8,5))\n",
      "    plt.plot(comp_id, ratios, 'ro-')\n",
      "    plt.title('Scree Plot')\n",
      "    plt.xlabel('Principal Component')\n",
      "    plt.ylabel('Eigenvalue')"
     ],
     "language": "python",
     "metadata": {},
     "outputs": [],
     "prompt_number": 32
    },
    {
     "cell_type": "code",
     "collapsed": false,
     "input": [
      "pca_analysis(X,64)"
     ],
     "language": "python",
     "metadata": {},
     "outputs": [
      {
       "output_type": "stream",
       "stream": "stdout",
       "text": [
        "\n",
        "\n",
        "Ratios of Variance Explained:  [ 0.23812732  0.1399397   0.07968616  0.04998334  0.03609847  0.03156934\n",
        "  0.02426834  0.02036401  0.01958113  0.01672123  0.01595221  0.01436978\n",
        "  0.01246741  0.01147133  0.01062876  0.00977721  0.0091906   0.00815573\n",
        "  0.00753874  0.00746985  0.00698577  0.00614628  0.00583928  0.00569723\n",
        "  0.00546191  0.00531855  0.00513816  0.00495841  0.00457664  0.00441184\n",
        "  0.00402002  0.0038419   0.00361951  0.00334542  0.00320381  0.00316041\n",
        "  0.00305147  0.00298635  0.00282141  0.00274006  0.00259772  0.0025399\n",
        "  0.00244547  0.0023984   0.00230891  0.00226419  0.00222286  0.00220443\n",
        "  0.00208921  0.00204983  0.00196843  0.00191436  0.00185046  0.00178939\n",
        "  0.00177608  0.00172483  0.00168585  0.00164168  0.00161885  0.00158394\n",
        "  0.00155428  0.00152233  0.00149958  0.00147712]\n",
        "\n",
        "\n",
        "Total Variance Explained:  0.897413\n"
       ]
      },
      {
       "metadata": {},
       "output_type": "display_data",
       "png": "[encoded data removed]",
       "text": [
        "<matplotlib.figure.Figure at 0x178488d0>"
       ]
      }
     ],
     "prompt_number": 36
    },
    {
     "cell_type": "code",
     "collapsed": false,
     "input": [],
     "language": "python",
     "metadata": {},
     "outputs": []
    },
    {
     "cell_type": "markdown",
     "metadata": {},
     "source": [
      "___________________\n",
      "## 2) Change from PCA to RandomizedPCA. \n",
      "Do you obtain the same principal components? Why? Why not? \n"
     ]
    },
    {
     "cell_type": "code",
     "collapsed": false,
     "input": [
      "def randomized_pca_analysis(X,N):\n",
      "    #input an array style data set\n",
      "    #number of components to analyze\n",
      "    n = N\n",
      "    comp_id=[]\n",
      "    for i in range(1,n+1):\n",
      "        comp_id.append(i)      #id number of each component\n",
      "    pca = RandomizedPCA(n_components = n)\n",
      "    X_r = pca.fit(X).transform(X)\n",
      "    \n",
      "    \n",
      "    ratios = pca.explained_variance_ratio_\n",
      "    print \"\\n\"\n",
      "    print \"Ratios of Variance Explained: \", ratios\n",
      "    sum_ratios = pca.explained_variance_ratio_.sum()\n",
      "    print \"\\n\"\n",
      "    print \"Total Variance Explained: \", sum_ratios\n",
      "    \n",
      "    #Scree Plot\n",
      "    fig = plt.figure(figsize=(8,5))\n",
      "    plt.plot(comp_id, ratios, 'ro-')\n",
      "    plt.title('Scree Plot')\n",
      "    plt.xlabel('Principal Component')\n",
      "    plt.ylabel('Eigenvalue')"
     ],
     "language": "python",
     "metadata": {},
     "outputs": [],
     "prompt_number": 38
    },
    {
     "cell_type": "code",
     "collapsed": false,
     "input": [
      "randomized_pca_analysis(X,64)"
     ],
     "language": "python",
     "metadata": {},
     "outputs": [
      {
       "output_type": "stream",
       "stream": "stdout",
       "text": [
        "\n",
        "\n",
        "Ratios of Variance Explained:  [ 0.2381273   0.13993972  0.07968614  0.04998332  0.03609848  0.03156939\n",
        "  0.02426832  0.02036398  0.01958114  0.01672122  0.01595222  0.01436979\n",
        "  0.01246741  0.01147133  0.01062877  0.0097772   0.0091906   0.00815572\n",
        "  0.00753872  0.00746984  0.00698573  0.00614623  0.00583919  0.00569715\n",
        "  0.00546185  0.00531846  0.00513794  0.00495829  0.00457635  0.00441146\n",
        "  0.00401914  0.00384148  0.00361876  0.00334434  0.00319972  0.00315774\n",
        "  0.00304879  0.00298301  0.00281747  0.00273282  0.00259265  0.00253002\n",
        "  0.00243377  0.00238641  0.00229763  0.00225576  0.00221072  0.00218981\n",
        "  0.00207545  0.00203943  0.00194453  0.00189246  0.00183349  0.00176863\n",
        "  0.00174938  0.00166718  0.00163849  0.00162129  0.00158268  0.00152189\n",
        "  0.0015168   0.00144554  0.00142873  0.0013805 ]\n",
        "\n",
        "\n",
        "Total Variance Explained:  0.896659780982\n"
       ]
      },
      {
       "metadata": {},
       "output_type": "display_data",
       "png": "[encoded data removed]",
       "text": [
        "<matplotlib.figure.Figure at 0x1767a6a0>"
       ]
      }
     ],
     "prompt_number": 39
    },
    {
     "cell_type": "code",
     "collapsed": false,
     "input": [],
     "language": "python",
     "metadata": {},
     "outputs": []
    },
    {
     "cell_type": "markdown",
     "metadata": {},
     "source": [
      "________________________________-\n",
      "## 3)Plot the datapoints in the plane of the two principal components. \n",
      "Are any clusters visible?"
     ]
    },
    {
     "cell_type": "code",
     "collapsed": false,
     "input": [
      "#transforming the data into a 2 component format\n",
      "pca = PCA(n_components=2)\n",
      "X_r = pca.fit(X).transform(X)"
     ],
     "language": "python",
     "metadata": {},
     "outputs": [],
     "prompt_number": 46
    },
    {
     "cell_type": "code",
     "collapsed": false,
     "input": [
      "len(X_r)"
     ],
     "language": "python",
     "metadata": {},
     "outputs": [
      {
       "metadata": {},
       "output_type": "pyout",
       "prompt_number": 57,
       "text": [
        "400"
       ]
      }
     ],
     "prompt_number": 57
    },
    {
     "cell_type": "code",
     "collapsed": false,
     "input": [
      "pl.figure()\n",
      "for i in range(0, 400):\n",
      "    pl.scatter(X_r[i, 0], X_r[i, 1], marker='+')\n",
      "pl.title('PCA of Olivetti Faces Dataset')\n",
      "\n",
      "pl.show()"
     ],
     "language": "python",
     "metadata": {},
     "outputs": [
      {
       "metadata": {},
       "output_type": "display_data",
       "png": "[encoded data removed]",
       "text": [
        "<matplotlib.figure.Figure at 0x1f1f6c88>"
       ]
      }
     ],
     "prompt_number": 67
    },
    {
     "cell_type": "code",
     "collapsed": false,
     "input": [],
     "language": "python",
     "metadata": {},
     "outputs": []
    },
    {
     "cell_type": "markdown",
     "metadata": {},
     "source": [
      "## 4) Implement k-means clustering, using sklearn, with k = number of people in the dataset. \n",
      "Does the clustering work? Does each cluster map correctly to one\n",
      "person? "
     ]
    },
    {
     "cell_type": "markdown",
     "metadata": {},
     "source": [
      "________\n",
      "First, I'll try to run K-Means on the transformed dataset from PCA\n",
      "_______________"
     ]
    },
    {
     "cell_type": "code",
     "collapsed": false,
     "input": [
      "from sklearn.cluster import KMeans"
     ],
     "language": "python",
     "metadata": {},
     "outputs": [],
     "prompt_number": 68
    },
    {
     "cell_type": "code",
     "collapsed": false,
     "input": [
      "km = KMeans(n_clusters=40, init='k-means++', n_init=10 , max_iter = 300, random_state=1)"
     ],
     "language": "python",
     "metadata": {},
     "outputs": [],
     "prompt_number": 70
    },
    {
     "cell_type": "code",
     "collapsed": false,
     "input": [
      "def do_kmeans_40(km, data):\n",
      "    km.fit(data)\n",
      "    centroids = km.cluster_centers_\n",
      "   # print \"centroids:\", centroids\n",
      "    y = km.predict(data)\n",
      "    \n",
      "    \n",
      "    fig, ax = plt.subplots(1,1, figsize=(8,8))\n",
      "    for t in xrange(40) :\n",
      "        ax.scatter(data[y == t,0],\n",
      "                   data[y == t,1],\n",
      "                   )\n",
      "\n",
      "    ax.scatter(centroids[:,0],centroids[:,1],marker = 's',c='r')"
     ],
     "language": "python",
     "metadata": {},
     "outputs": [],
     "prompt_number": 73
    },
    {
     "cell_type": "code",
     "collapsed": false,
     "input": [
      "do_kmeans_40(km, X_r)"
     ],
     "language": "python",
     "metadata": {},
     "outputs": [
      {
       "metadata": {},
       "output_type": "display_data",
       "png": "[encoded data removed]",
       "text": [
        "<matplotlib.figure.Figure at 0x17771dd8>"
       ]
      }
     ],
     "prompt_number": 74
    },
    {
     "cell_type": "markdown",
     "metadata": {},
     "source": [
      "Doesn't appear to map all that well to any clusters"
     ]
    },
    {
     "cell_type": "code",
     "collapsed": false,
     "input": [],
     "language": "python",
     "metadata": {},
     "outputs": []
    },
    {
     "cell_type": "markdown",
     "metadata": {},
     "source": [
      "\n",
      "\n",
      "## 5) Vary the number k between 1 and <number of datapoints> and plot the Silhouette  coefficient as a function of k. \n",
      "What do you observe? What conclusions can you draw?  "
     ]
    },
    {
     "cell_type": "code",
     "collapsed": false,
     "input": [
      "from sklearn import metrics\n",
      "from sklearn.metrics import pairwise_distances\n",
      "\n",
      "km = KMeans(n_clusters=3, random_state=1)\n",
      "km.fit(X_r)\n",
      "labels = km.labels_\n",
      "metrics.silhouette_score(X_r, labels, metric='euclidean')"
     ],
     "language": "python",
     "metadata": {},
     "outputs": [
      {
       "metadata": {},
       "output_type": "pyout",
       "prompt_number": 75,
       "text": [
        "0.39798883"
       ]
      }
     ],
     "prompt_number": 75
    },
    {
     "cell_type": "markdown",
     "metadata": {},
     "source": [
      "___________________\n",
      "\n",
      "Running Silhoutte scoring on the transformed PCA dataset first"
     ]
    },
    {
     "cell_type": "code",
     "collapsed": false,
     "input": [
      "scores = []\n",
      "for k in xrange(2,40):\n",
      "    km = KMeans(n_clusters=k, random_state=1)\n",
      "    km.fit(X_r)\n",
      "    labels = km.labels_\n",
      "    scores.append(metrics.silhouette_score(X_r, labels, metric='euclidean'))\n",
      "    "
     ],
     "language": "python",
     "metadata": {},
     "outputs": [],
     "prompt_number": 81
    },
    {
     "cell_type": "code",
     "collapsed": false,
     "input": [
      "plt.plot(scores)"
     ],
     "language": "python",
     "metadata": {},
     "outputs": [
      {
       "metadata": {},
       "output_type": "pyout",
       "prompt_number": 84,
       "text": [
        "[<matplotlib.lines.Line2D at 0x1f79b0f0>]"
       ]
      },
      {
       "metadata": {},
       "output_type": "display_data",
       "png": "[encoded data removed]",
       "text": [
        "<matplotlib.figure.Figure at 0x175c1550>"
       ]
      }
     ],
     "prompt_number": 84
    },
    {
     "cell_type": "markdown",
     "metadata": {},
     "source": [
      "______________---\n",
      "\n",
      "Running the Silhouette scoring on the full dataset"
     ]
    },
    {
     "cell_type": "code",
     "collapsed": false,
     "input": [
      "scores = []\n",
      "for k in xrange(2,40):\n",
      "    km = KMeans(n_clusters=k, random_state=1)\n",
      "    km.fit(X)\n",
      "    labels = km.labels_\n",
      "    scores.append(metrics.silhouette_score(X, labels, metric='euclidean'))\n",
      "    "
     ],
     "language": "python",
     "metadata": {},
     "outputs": [],
     "prompt_number": 85
    },
    {
     "cell_type": "code",
     "collapsed": false,
     "input": [
      "plt.plot(scores)"
     ],
     "language": "python",
     "metadata": {},
     "outputs": [
      {
       "metadata": {},
       "output_type": "pyout",
       "prompt_number": 86,
       "text": [
        "[<matplotlib.lines.Line2D at 0x1fbaaa90>]"
       ]
      },
      {
       "metadata": {},
       "output_type": "display_data",
       "png": "[encoded data removed]",
       "text": [
        "<matplotlib.figure.Figure at 0x1f96e438>"
       ]
      }
     ],
     "prompt_number": 86
    },
    {
     "cell_type": "code",
     "collapsed": false,
     "input": [],
     "language": "python",
     "metadata": {},
     "outputs": []
    }
   ],
   "metadata": {}
  }
 ]
}